{
 "cells": [
  {
   "cell_type": "code",
   "execution_count": 195,
   "metadata": {},
   "outputs": [],
   "source": [
    "import matplotlib.pyplot as plt"
   ]
  },
  {
   "cell_type": "code",
   "execution_count": 196,
   "metadata": {},
   "outputs": [],
   "source": [
    "import time\n",
    "import plotly.graph_objects as go\n",
    "\n"
   ]
  },
  {
   "cell_type": "code",
   "execution_count": 197,
   "metadata": {},
   "outputs": [],
   "source": [
    "class Vertex:\n",
    "    def __init__(self,x_coord, y_coord,next_index, prev_index, index):\n",
    "        self.x = x_coord\n",
    "        self.y = y_coord\n",
    "        self.next = next_index\n",
    "        self.prev = prev_index\n",
    "        self.index = index\n"
   ]
  },
  {
   "cell_type": "code",
   "execution_count": 198,
   "metadata": {},
   "outputs": [],
   "source": [
    "class Polygon:\n",
    "    def __init__(self, filename):\n",
    "        self.x_coords = []\n",
    "        self.y_coords = []\n",
    "        self.vertex_list = []\n",
    "        with open(filename, 'r') as file:\n",
    "            for line in file:\n",
    "                parts = line.strip().split()\n",
    "                num_vertices = int(parts[0])\n",
    "                #print(num_vertices)\n",
    "                for i in range(num_vertices):\n",
    "                    x_str, y_str = parts[2 * i + 1], parts[2 * i + 2]\n",
    "                    num, dem = map(int, x_str.split('/'))\n",
    "                    x_coord = num / dem\n",
    "                    self.x_coords.append(x_coord)\n",
    "                    num, dem = map(int, y_str.split('/'))\n",
    "                    y_coord = num / dem\n",
    "                    self.y_coords.append(y_coord)\n",
    "                    self.vertex_list.append(Vertex(x_coord, y_coord, (i+1)%num_vertices, (i-1)%num_vertices , i))\n",
    "    \n",
    "    def plot(self, triangles=None):\n",
    "        fig = go.Figure()\n",
    "        \n",
    "        fig.add_trace(go.Scatter(x=self.x_coords + [self.x_coords[0]], y=self.y_coords + [self.y_coords[0]],\n",
    "                                 mode='lines+markers', name='Polygon') )\n",
    "        \n",
    "        fig.add_trace(go.Scatter(x=self.x_coords, y=self.y_coords, fill='toself',fillcolor='rgba(34, 200, 255, 0.2)',\n",
    "                                 mode='none'))\n",
    "        \n",
    "        fig.update_layout(\n",
    "\n",
    "            xaxis=dict(title='X'),\n",
    "            yaxis=dict(title='Y'),\n",
    "            showlegend=True,\n",
    "            hovermode='closest',\n",
    "            template='plotly_white',\n",
    "            updatemenus=[{'type': 'buttons',\n",
    "                          'buttons': [{'label': 'Play',\n",
    "                                       'method': 'animate',\n",
    "                                       'args': [None, {'frame': {'duration': 500, 'redraw': True}, 'fromcurrent': True, 'transition': {'duration': 300, 'easing': 'quadratic-in-out'}}]},\n",
    "                                     {'label': 'Pause',\n",
    "                                      'method': 'animate',\n",
    "                                      'args': [[None], {'frame': {'duration': 0, 'redraw': False}, 'mode': 'immediate', 'transition': {'duration': 0}}]}]}]\n",
    "        )\n",
    "        \n",
    "        if triangles:\n",
    "            frames = []\n",
    "            fig.add_trace(go.Scatter(x=self.x_coords + [self.x_coords[0]], y=self.y_coords + [self.y_coords[0]],\n",
    "                                mode='lines+markers'))\n",
    "            for i, triangle in enumerate(triangles):\n",
    "                tri_x = [triangle[0].x, triangle[1].x, triangle[2].x, triangle[0].x]\n",
    "                tri_y = [triangle[0].y, triangle[1].y, triangle[2].y, triangle[0].y]\n",
    "                \n",
    "                frame = go.Frame(data=[go.Scatter(x=tri_x, y=tri_y, mode='lines', line=dict(color = 'red'),name='Triangle')],\n",
    "                                 name=f'frame{i}')\n",
    "                frames.append(frame)\n",
    "            \n",
    "            fig.frames = frames\n",
    "        \n",
    "        fig.show()\n",
    "    \n",
    "\n",
    "        \n",
    "    def triangulate(self):\n",
    "        triangles = []\n",
    "        vertices = self.vertex_list[:]\n",
    "        \n",
    "        while len(vertices) > 3:\n",
    "            for i in range(len(vertices)):\n",
    "                prev_index = (i - 1) % len(vertices)\n",
    "                next_index = (i + 1) % len(vertices)\n",
    "                \n",
    "                ear_found = self.ear(vertices[prev_index], vertices[i], vertices[next_index],vertices)\n",
    "                if ear_found:\n",
    "                    triangles.append((vertices[prev_index], vertices[i], vertices[next_index]))\n",
    "                    #self.plot(triangles)\n",
    "                    vertices.pop(i)\n",
    "                    break\n",
    "        \n",
    "        triangles.append((vertices[0], vertices[1], vertices[2]))\n",
    "\n",
    "        return triangles\n",
    "    \n",
    "    def ear(self, prev_vertex, ear_vertex, next_vertex, vertices):\n",
    "        if self.convex(prev_vertex, ear_vertex, next_vertex):\n",
    "            for v in vertices:\n",
    "                if v != prev_vertex and v != ear_vertex and v != next_vertex:\n",
    "                    if self.inTriangle(v, prev_vertex, ear_vertex, next_vertex):\n",
    "                        return False\n",
    "            return True\n",
    "        return False\n",
    "    \n",
    "    def convex(self, prev_vertex, curr_vertex, next_vertex):\n",
    "        return self.vetorialProduct(prev_vertex, curr_vertex, next_vertex) > 0\n",
    "    \n",
    "    def vetorialProduct(self, v1, v2, v3):\n",
    "        return (v2.x - v1.x) * (v3.y - v1.y) - (v2.y - v1.y) * (v3.x - v1.x)\n",
    "    \n",
    "\n",
    "    \n",
    "    def inTriangle(self, v, v1, v2, v3):\n",
    "        d1 = self.aux(v, v1, v2)\n",
    "        d2 = self.aux(v, v2, v3)\n",
    "        d3 = self.aux(v, v3, v1)\n",
    "        return not ((d1 < 0 or d2 < 0 or d3 < 0) and (d1 > 0 or d2 > 0 or d3 > 0))\n",
    "    \n",
    "    def aux(self, v1, v2, v3):\n",
    "        return (v1.x - v3.x) * (v2.y - v3.y) - (v2.x - v3.x) * (v1.y - v3.y)\n",
    "    \n"
   ]
  },
  {
   "cell_type": "markdown",
   "metadata": {},
   "source": []
  },
  {
   "cell_type": "code",
   "execution_count": 199,
   "metadata": {},
   "outputs": [
    {
     "data": {
      "application/vnd.plotly.v1+json": {
       "config": {
        "plotlyServerURL": "https://plot.ly"
       },
       "data": [
        {
         "mode": "lines+markers",
         "name": "Polygon",
         "type": "scatter",
         "x": [
          3.3453252939507365,
          4.56964466907084,
          2.990969273261726,
          -1.648869906552136,
          7.07633207179606,
          7.034027734771371,
          8.507412764243782,
          13.109639695845544,
          12.64738021697849,
          6.054546925249171,
          3.5821968968957663,
          14.26908371038735,
          9.838039012625813,
          0.8827832043170929,
          4.185707269236445,
          10.700615999288857,
          6.757501590996981,
          3.6048890640959144,
          2.9554162742570043,
          -2.130536885932088,
          3.3453252939507365
         ],
         "y": [
          5.152417876757681,
          4.434112290851772,
          4.358941366896033,
          5.944620854221284,
          1.166239351965487,
          1.6574246194213629,
          3.655031168833375,
          5.455331605859101,
          7.803006804548204,
          7.866376008838415,
          9.926278525032103,
          9.825916112400591,
          10.504358172416687,
          10.70221396535635,
          7.648181322962046,
          6.424419324845076,
          3.4017199594527483,
          6.543008344247937,
          6.858058384619653,
          8.785307914018631,
          5.152417876757681
         ]
        },
        {
         "fill": "toself",
         "fillcolor": "rgba(34, 200, 255, 0.2)",
         "mode": "none",
         "type": "scatter",
         "x": [
          3.3453252939507365,
          4.56964466907084,
          2.990969273261726,
          -1.648869906552136,
          7.07633207179606,
          7.034027734771371,
          8.507412764243782,
          13.109639695845544,
          12.64738021697849,
          6.054546925249171,
          3.5821968968957663,
          14.26908371038735,
          9.838039012625813,
          0.8827832043170929,
          4.185707269236445,
          10.700615999288857,
          6.757501590996981,
          3.6048890640959144,
          2.9554162742570043,
          -2.130536885932088
         ],
         "y": [
          5.152417876757681,
          4.434112290851772,
          4.358941366896033,
          5.944620854221284,
          1.166239351965487,
          1.6574246194213629,
          3.655031168833375,
          5.455331605859101,
          7.803006804548204,
          7.866376008838415,
          9.926278525032103,
          9.825916112400591,
          10.504358172416687,
          10.70221396535635,
          7.648181322962046,
          6.424419324845076,
          3.4017199594527483,
          6.543008344247937,
          6.858058384619653,
          8.785307914018631
         ]
        }
       ],
       "layout": {
        "hovermode": "closest",
        "showlegend": true,
        "template": {
         "data": {
          "bar": [
           {
            "error_x": {
             "color": "#2a3f5f"
            },
            "error_y": {
             "color": "#2a3f5f"
            },
            "marker": {
             "line": {
              "color": "white",
              "width": 0.5
             },
             "pattern": {
              "fillmode": "overlay",
              "size": 10,
              "solidity": 0.2
             }
            },
            "type": "bar"
           }
          ],
          "barpolar": [
           {
            "marker": {
             "line": {
              "color": "white",
              "width": 0.5
             },
             "pattern": {
              "fillmode": "overlay",
              "size": 10,
              "solidity": 0.2
             }
            },
            "type": "barpolar"
           }
          ],
          "carpet": [
           {
            "aaxis": {
             "endlinecolor": "#2a3f5f",
             "gridcolor": "#C8D4E3",
             "linecolor": "#C8D4E3",
             "minorgridcolor": "#C8D4E3",
             "startlinecolor": "#2a3f5f"
            },
            "baxis": {
             "endlinecolor": "#2a3f5f",
             "gridcolor": "#C8D4E3",
             "linecolor": "#C8D4E3",
             "minorgridcolor": "#C8D4E3",
             "startlinecolor": "#2a3f5f"
            },
            "type": "carpet"
           }
          ],
          "choropleth": [
           {
            "colorbar": {
             "outlinewidth": 0,
             "ticks": ""
            },
            "type": "choropleth"
           }
          ],
          "contour": [
           {
            "colorbar": {
             "outlinewidth": 0,
             "ticks": ""
            },
            "colorscale": [
             [
              0,
              "#0d0887"
             ],
             [
              0.1111111111111111,
              "#46039f"
             ],
             [
              0.2222222222222222,
              "#7201a8"
             ],
             [
              0.3333333333333333,
              "#9c179e"
             ],
             [
              0.4444444444444444,
              "#bd3786"
             ],
             [
              0.5555555555555556,
              "#d8576b"
             ],
             [
              0.6666666666666666,
              "#ed7953"
             ],
             [
              0.7777777777777778,
              "#fb9f3a"
             ],
             [
              0.8888888888888888,
              "#fdca26"
             ],
             [
              1,
              "#f0f921"
             ]
            ],
            "type": "contour"
           }
          ],
          "contourcarpet": [
           {
            "colorbar": {
             "outlinewidth": 0,
             "ticks": ""
            },
            "type": "contourcarpet"
           }
          ],
          "heatmap": [
           {
            "colorbar": {
             "outlinewidth": 0,
             "ticks": ""
            },
            "colorscale": [
             [
              0,
              "#0d0887"
             ],
             [
              0.1111111111111111,
              "#46039f"
             ],
             [
              0.2222222222222222,
              "#7201a8"
             ],
             [
              0.3333333333333333,
              "#9c179e"
             ],
             [
              0.4444444444444444,
              "#bd3786"
             ],
             [
              0.5555555555555556,
              "#d8576b"
             ],
             [
              0.6666666666666666,
              "#ed7953"
             ],
             [
              0.7777777777777778,
              "#fb9f3a"
             ],
             [
              0.8888888888888888,
              "#fdca26"
             ],
             [
              1,
              "#f0f921"
             ]
            ],
            "type": "heatmap"
           }
          ],
          "heatmapgl": [
           {
            "colorbar": {
             "outlinewidth": 0,
             "ticks": ""
            },
            "colorscale": [
             [
              0,
              "#0d0887"
             ],
             [
              0.1111111111111111,
              "#46039f"
             ],
             [
              0.2222222222222222,
              "#7201a8"
             ],
             [
              0.3333333333333333,
              "#9c179e"
             ],
             [
              0.4444444444444444,
              "#bd3786"
             ],
             [
              0.5555555555555556,
              "#d8576b"
             ],
             [
              0.6666666666666666,
              "#ed7953"
             ],
             [
              0.7777777777777778,
              "#fb9f3a"
             ],
             [
              0.8888888888888888,
              "#fdca26"
             ],
             [
              1,
              "#f0f921"
             ]
            ],
            "type": "heatmapgl"
           }
          ],
          "histogram": [
           {
            "marker": {
             "pattern": {
              "fillmode": "overlay",
              "size": 10,
              "solidity": 0.2
             }
            },
            "type": "histogram"
           }
          ],
          "histogram2d": [
           {
            "colorbar": {
             "outlinewidth": 0,
             "ticks": ""
            },
            "colorscale": [
             [
              0,
              "#0d0887"
             ],
             [
              0.1111111111111111,
              "#46039f"
             ],
             [
              0.2222222222222222,
              "#7201a8"
             ],
             [
              0.3333333333333333,
              "#9c179e"
             ],
             [
              0.4444444444444444,
              "#bd3786"
             ],
             [
              0.5555555555555556,
              "#d8576b"
             ],
             [
              0.6666666666666666,
              "#ed7953"
             ],
             [
              0.7777777777777778,
              "#fb9f3a"
             ],
             [
              0.8888888888888888,
              "#fdca26"
             ],
             [
              1,
              "#f0f921"
             ]
            ],
            "type": "histogram2d"
           }
          ],
          "histogram2dcontour": [
           {
            "colorbar": {
             "outlinewidth": 0,
             "ticks": ""
            },
            "colorscale": [
             [
              0,
              "#0d0887"
             ],
             [
              0.1111111111111111,
              "#46039f"
             ],
             [
              0.2222222222222222,
              "#7201a8"
             ],
             [
              0.3333333333333333,
              "#9c179e"
             ],
             [
              0.4444444444444444,
              "#bd3786"
             ],
             [
              0.5555555555555556,
              "#d8576b"
             ],
             [
              0.6666666666666666,
              "#ed7953"
             ],
             [
              0.7777777777777778,
              "#fb9f3a"
             ],
             [
              0.8888888888888888,
              "#fdca26"
             ],
             [
              1,
              "#f0f921"
             ]
            ],
            "type": "histogram2dcontour"
           }
          ],
          "mesh3d": [
           {
            "colorbar": {
             "outlinewidth": 0,
             "ticks": ""
            },
            "type": "mesh3d"
           }
          ],
          "parcoords": [
           {
            "line": {
             "colorbar": {
              "outlinewidth": 0,
              "ticks": ""
             }
            },
            "type": "parcoords"
           }
          ],
          "pie": [
           {
            "automargin": true,
            "type": "pie"
           }
          ],
          "scatter": [
           {
            "fillpattern": {
             "fillmode": "overlay",
             "size": 10,
             "solidity": 0.2
            },
            "type": "scatter"
           }
          ],
          "scatter3d": [
           {
            "line": {
             "colorbar": {
              "outlinewidth": 0,
              "ticks": ""
             }
            },
            "marker": {
             "colorbar": {
              "outlinewidth": 0,
              "ticks": ""
             }
            },
            "type": "scatter3d"
           }
          ],
          "scattercarpet": [
           {
            "marker": {
             "colorbar": {
              "outlinewidth": 0,
              "ticks": ""
             }
            },
            "type": "scattercarpet"
           }
          ],
          "scattergeo": [
           {
            "marker": {
             "colorbar": {
              "outlinewidth": 0,
              "ticks": ""
             }
            },
            "type": "scattergeo"
           }
          ],
          "scattergl": [
           {
            "marker": {
             "colorbar": {
              "outlinewidth": 0,
              "ticks": ""
             }
            },
            "type": "scattergl"
           }
          ],
          "scattermapbox": [
           {
            "marker": {
             "colorbar": {
              "outlinewidth": 0,
              "ticks": ""
             }
            },
            "type": "scattermapbox"
           }
          ],
          "scatterpolar": [
           {
            "marker": {
             "colorbar": {
              "outlinewidth": 0,
              "ticks": ""
             }
            },
            "type": "scatterpolar"
           }
          ],
          "scatterpolargl": [
           {
            "marker": {
             "colorbar": {
              "outlinewidth": 0,
              "ticks": ""
             }
            },
            "type": "scatterpolargl"
           }
          ],
          "scatterternary": [
           {
            "marker": {
             "colorbar": {
              "outlinewidth": 0,
              "ticks": ""
             }
            },
            "type": "scatterternary"
           }
          ],
          "surface": [
           {
            "colorbar": {
             "outlinewidth": 0,
             "ticks": ""
            },
            "colorscale": [
             [
              0,
              "#0d0887"
             ],
             [
              0.1111111111111111,
              "#46039f"
             ],
             [
              0.2222222222222222,
              "#7201a8"
             ],
             [
              0.3333333333333333,
              "#9c179e"
             ],
             [
              0.4444444444444444,
              "#bd3786"
             ],
             [
              0.5555555555555556,
              "#d8576b"
             ],
             [
              0.6666666666666666,
              "#ed7953"
             ],
             [
              0.7777777777777778,
              "#fb9f3a"
             ],
             [
              0.8888888888888888,
              "#fdca26"
             ],
             [
              1,
              "#f0f921"
             ]
            ],
            "type": "surface"
           }
          ],
          "table": [
           {
            "cells": {
             "fill": {
              "color": "#EBF0F8"
             },
             "line": {
              "color": "white"
             }
            },
            "header": {
             "fill": {
              "color": "#C8D4E3"
             },
             "line": {
              "color": "white"
             }
            },
            "type": "table"
           }
          ]
         },
         "layout": {
          "annotationdefaults": {
           "arrowcolor": "#2a3f5f",
           "arrowhead": 0,
           "arrowwidth": 1
          },
          "autotypenumbers": "strict",
          "coloraxis": {
           "colorbar": {
            "outlinewidth": 0,
            "ticks": ""
           }
          },
          "colorscale": {
           "diverging": [
            [
             0,
             "#8e0152"
            ],
            [
             0.1,
             "#c51b7d"
            ],
            [
             0.2,
             "#de77ae"
            ],
            [
             0.3,
             "#f1b6da"
            ],
            [
             0.4,
             "#fde0ef"
            ],
            [
             0.5,
             "#f7f7f7"
            ],
            [
             0.6,
             "#e6f5d0"
            ],
            [
             0.7,
             "#b8e186"
            ],
            [
             0.8,
             "#7fbc41"
            ],
            [
             0.9,
             "#4d9221"
            ],
            [
             1,
             "#276419"
            ]
           ],
           "sequential": [
            [
             0,
             "#0d0887"
            ],
            [
             0.1111111111111111,
             "#46039f"
            ],
            [
             0.2222222222222222,
             "#7201a8"
            ],
            [
             0.3333333333333333,
             "#9c179e"
            ],
            [
             0.4444444444444444,
             "#bd3786"
            ],
            [
             0.5555555555555556,
             "#d8576b"
            ],
            [
             0.6666666666666666,
             "#ed7953"
            ],
            [
             0.7777777777777778,
             "#fb9f3a"
            ],
            [
             0.8888888888888888,
             "#fdca26"
            ],
            [
             1,
             "#f0f921"
            ]
           ],
           "sequentialminus": [
            [
             0,
             "#0d0887"
            ],
            [
             0.1111111111111111,
             "#46039f"
            ],
            [
             0.2222222222222222,
             "#7201a8"
            ],
            [
             0.3333333333333333,
             "#9c179e"
            ],
            [
             0.4444444444444444,
             "#bd3786"
            ],
            [
             0.5555555555555556,
             "#d8576b"
            ],
            [
             0.6666666666666666,
             "#ed7953"
            ],
            [
             0.7777777777777778,
             "#fb9f3a"
            ],
            [
             0.8888888888888888,
             "#fdca26"
            ],
            [
             1,
             "#f0f921"
            ]
           ]
          },
          "colorway": [
           "#636efa",
           "#EF553B",
           "#00cc96",
           "#ab63fa",
           "#FFA15A",
           "#19d3f3",
           "#FF6692",
           "#B6E880",
           "#FF97FF",
           "#FECB52"
          ],
          "font": {
           "color": "#2a3f5f"
          },
          "geo": {
           "bgcolor": "white",
           "lakecolor": "white",
           "landcolor": "white",
           "showlakes": true,
           "showland": true,
           "subunitcolor": "#C8D4E3"
          },
          "hoverlabel": {
           "align": "left"
          },
          "hovermode": "closest",
          "mapbox": {
           "style": "light"
          },
          "paper_bgcolor": "white",
          "plot_bgcolor": "white",
          "polar": {
           "angularaxis": {
            "gridcolor": "#EBF0F8",
            "linecolor": "#EBF0F8",
            "ticks": ""
           },
           "bgcolor": "white",
           "radialaxis": {
            "gridcolor": "#EBF0F8",
            "linecolor": "#EBF0F8",
            "ticks": ""
           }
          },
          "scene": {
           "xaxis": {
            "backgroundcolor": "white",
            "gridcolor": "#DFE8F3",
            "gridwidth": 2,
            "linecolor": "#EBF0F8",
            "showbackground": true,
            "ticks": "",
            "zerolinecolor": "#EBF0F8"
           },
           "yaxis": {
            "backgroundcolor": "white",
            "gridcolor": "#DFE8F3",
            "gridwidth": 2,
            "linecolor": "#EBF0F8",
            "showbackground": true,
            "ticks": "",
            "zerolinecolor": "#EBF0F8"
           },
           "zaxis": {
            "backgroundcolor": "white",
            "gridcolor": "#DFE8F3",
            "gridwidth": 2,
            "linecolor": "#EBF0F8",
            "showbackground": true,
            "ticks": "",
            "zerolinecolor": "#EBF0F8"
           }
          },
          "shapedefaults": {
           "line": {
            "color": "#2a3f5f"
           }
          },
          "ternary": {
           "aaxis": {
            "gridcolor": "#DFE8F3",
            "linecolor": "#A2B1C6",
            "ticks": ""
           },
           "baxis": {
            "gridcolor": "#DFE8F3",
            "linecolor": "#A2B1C6",
            "ticks": ""
           },
           "bgcolor": "white",
           "caxis": {
            "gridcolor": "#DFE8F3",
            "linecolor": "#A2B1C6",
            "ticks": ""
           }
          },
          "title": {
           "x": 0.05
          },
          "xaxis": {
           "automargin": true,
           "gridcolor": "#EBF0F8",
           "linecolor": "#EBF0F8",
           "ticks": "",
           "title": {
            "standoff": 15
           },
           "zerolinecolor": "#EBF0F8",
           "zerolinewidth": 2
          },
          "yaxis": {
           "automargin": true,
           "gridcolor": "#EBF0F8",
           "linecolor": "#EBF0F8",
           "ticks": "",
           "title": {
            "standoff": 15
           },
           "zerolinecolor": "#EBF0F8",
           "zerolinewidth": 2
          }
         }
        },
        "updatemenus": [
         {
          "buttons": [
           {
            "args": [
             null,
             {
              "frame": {
               "duration": 500,
               "redraw": true
              },
              "fromcurrent": true,
              "transition": {
               "duration": 300,
               "easing": "quadratic-in-out"
              }
             }
            ],
            "label": "Play",
            "method": "animate"
           },
           {
            "args": [
             [
              null
             ],
             {
              "frame": {
               "duration": 0,
               "redraw": false
              },
              "mode": "immediate",
              "transition": {
               "duration": 0
              }
             }
            ],
            "label": "Pause",
            "method": "animate"
           }
          ],
          "type": "buttons"
         }
        ],
        "xaxis": {
         "title": {
          "text": "X"
         }
        },
        "yaxis": {
         "title": {
          "text": "Y"
         }
        }
       }
      }
     },
     "metadata": {},
     "output_type": "display_data"
    },
    {
     "data": {
      "application/vnd.plotly.v1+json": {
       "config": {
        "plotlyServerURL": "https://plot.ly"
       },
       "data": [
        {
         "mode": "lines+markers",
         "name": "Polygon",
         "type": "scatter",
         "x": [
          3.3453252939507365,
          4.56964466907084,
          2.990969273261726,
          -1.648869906552136,
          7.07633207179606,
          7.034027734771371,
          8.507412764243782,
          13.109639695845544,
          12.64738021697849,
          6.054546925249171,
          3.5821968968957663,
          14.26908371038735,
          9.838039012625813,
          0.8827832043170929,
          4.185707269236445,
          10.700615999288857,
          6.757501590996981,
          3.6048890640959144,
          2.9554162742570043,
          -2.130536885932088,
          3.3453252939507365
         ],
         "y": [
          5.152417876757681,
          4.434112290851772,
          4.358941366896033,
          5.944620854221284,
          1.166239351965487,
          1.6574246194213629,
          3.655031168833375,
          5.455331605859101,
          7.803006804548204,
          7.866376008838415,
          9.926278525032103,
          9.825916112400591,
          10.504358172416687,
          10.70221396535635,
          7.648181322962046,
          6.424419324845076,
          3.4017199594527483,
          6.543008344247937,
          6.858058384619653,
          8.785307914018631,
          5.152417876757681
         ]
        },
        {
         "fill": "toself",
         "fillcolor": "rgba(34, 200, 255, 0.2)",
         "mode": "none",
         "type": "scatter",
         "x": [
          3.3453252939507365,
          4.56964466907084,
          2.990969273261726,
          -1.648869906552136,
          7.07633207179606,
          7.034027734771371,
          8.507412764243782,
          13.109639695845544,
          12.64738021697849,
          6.054546925249171,
          3.5821968968957663,
          14.26908371038735,
          9.838039012625813,
          0.8827832043170929,
          4.185707269236445,
          10.700615999288857,
          6.757501590996981,
          3.6048890640959144,
          2.9554162742570043,
          -2.130536885932088
         ],
         "y": [
          5.152417876757681,
          4.434112290851772,
          4.358941366896033,
          5.944620854221284,
          1.166239351965487,
          1.6574246194213629,
          3.655031168833375,
          5.455331605859101,
          7.803006804548204,
          7.866376008838415,
          9.926278525032103,
          9.825916112400591,
          10.504358172416687,
          10.70221396535635,
          7.648181322962046,
          6.424419324845076,
          3.4017199594527483,
          6.543008344247937,
          6.858058384619653,
          8.785307914018631
         ]
        },
        {
         "mode": "lines+markers",
         "type": "scatter",
         "x": [
          3.3453252939507365,
          4.56964466907084,
          2.990969273261726,
          -1.648869906552136,
          7.07633207179606,
          7.034027734771371,
          8.507412764243782,
          13.109639695845544,
          12.64738021697849,
          6.054546925249171,
          3.5821968968957663,
          14.26908371038735,
          9.838039012625813,
          0.8827832043170929,
          4.185707269236445,
          10.700615999288857,
          6.757501590996981,
          3.6048890640959144,
          2.9554162742570043,
          -2.130536885932088,
          3.3453252939507365
         ],
         "y": [
          5.152417876757681,
          4.434112290851772,
          4.358941366896033,
          5.944620854221284,
          1.166239351965487,
          1.6574246194213629,
          3.655031168833375,
          5.455331605859101,
          7.803006804548204,
          7.866376008838415,
          9.926278525032103,
          9.825916112400591,
          10.504358172416687,
          10.70221396535635,
          7.648181322962046,
          6.424419324845076,
          3.4017199594527483,
          6.543008344247937,
          6.858058384619653,
          8.785307914018631,
          5.152417876757681
         ]
        }
       ],
       "frames": [
        {
         "data": [
          {
           "line": {
            "color": "red"
           },
           "mode": "lines",
           "name": "Triangle",
           "type": "scatter",
           "x": [
            -2.130536885932088,
            3.3453252939507365,
            4.56964466907084,
            -2.130536885932088
           ],
           "y": [
            8.785307914018631,
            5.152417876757681,
            4.434112290851772,
            8.785307914018631
           ]
          }
         ],
         "name": "frame0"
        },
        {
         "data": [
          {
           "line": {
            "color": "red"
           },
           "mode": "lines",
           "name": "Triangle",
           "type": "scatter",
           "x": [
            2.990969273261726,
            -1.648869906552136,
            7.07633207179606,
            2.990969273261726
           ],
           "y": [
            4.358941366896033,
            5.944620854221284,
            1.166239351965487,
            4.358941366896033
           ]
          }
         ],
         "name": "frame1"
        },
        {
         "data": [
          {
           "line": {
            "color": "red"
           },
           "mode": "lines",
           "name": "Triangle",
           "type": "scatter",
           "x": [
            4.56964466907084,
            2.990969273261726,
            7.07633207179606,
            4.56964466907084
           ],
           "y": [
            4.434112290851772,
            4.358941366896033,
            1.166239351965487,
            4.434112290851772
           ]
          }
         ],
         "name": "frame2"
        },
        {
         "data": [
          {
           "line": {
            "color": "red"
           },
           "mode": "lines",
           "name": "Triangle",
           "type": "scatter",
           "x": [
            4.56964466907084,
            7.07633207179606,
            7.034027734771371,
            4.56964466907084
           ],
           "y": [
            4.434112290851772,
            1.166239351965487,
            1.6574246194213629,
            4.434112290851772
           ]
          }
         ],
         "name": "frame3"
        },
        {
         "data": [
          {
           "line": {
            "color": "red"
           },
           "mode": "lines",
           "name": "Triangle",
           "type": "scatter",
           "x": [
            8.507412764243782,
            13.109639695845544,
            12.64738021697849,
            8.507412764243782
           ],
           "y": [
            3.655031168833375,
            5.455331605859101,
            7.803006804548204,
            3.655031168833375
           ]
          }
         ],
         "name": "frame4"
        },
        {
         "data": [
          {
           "line": {
            "color": "red"
           },
           "mode": "lines",
           "name": "Triangle",
           "type": "scatter",
           "x": [
            3.5821968968957663,
            14.26908371038735,
            9.838039012625813,
            3.5821968968957663
           ],
           "y": [
            9.926278525032103,
            9.825916112400591,
            10.504358172416687,
            9.926278525032103
           ]
          }
         ],
         "name": "frame5"
        },
        {
         "data": [
          {
           "line": {
            "color": "red"
           },
           "mode": "lines",
           "name": "Triangle",
           "type": "scatter",
           "x": [
            3.5821968968957663,
            9.838039012625813,
            0.8827832043170929,
            3.5821968968957663
           ],
           "y": [
            9.926278525032103,
            10.504358172416687,
            10.70221396535635,
            9.926278525032103
           ]
          }
         ],
         "name": "frame6"
        },
        {
         "data": [
          {
           "line": {
            "color": "red"
           },
           "mode": "lines",
           "name": "Triangle",
           "type": "scatter",
           "x": [
            6.054546925249171,
            3.5821968968957663,
            0.8827832043170929,
            6.054546925249171
           ],
           "y": [
            7.866376008838415,
            9.926278525032103,
            10.70221396535635,
            7.866376008838415
           ]
          }
         ],
         "name": "frame7"
        },
        {
         "data": [
          {
           "line": {
            "color": "red"
           },
           "mode": "lines",
           "name": "Triangle",
           "type": "scatter",
           "x": [
            6.054546925249171,
            0.8827832043170929,
            4.185707269236445,
            6.054546925249171
           ],
           "y": [
            7.866376008838415,
            10.70221396535635,
            7.648181322962046,
            7.866376008838415
           ]
          }
         ],
         "name": "frame8"
        },
        {
         "data": [
          {
           "line": {
            "color": "red"
           },
           "mode": "lines",
           "name": "Triangle",
           "type": "scatter",
           "x": [
            12.64738021697849,
            6.054546925249171,
            4.185707269236445,
            12.64738021697849
           ],
           "y": [
            7.803006804548204,
            7.866376008838415,
            7.648181322962046,
            7.803006804548204
           ]
          }
         ],
         "name": "frame9"
        },
        {
         "data": [
          {
           "line": {
            "color": "red"
           },
           "mode": "lines",
           "name": "Triangle",
           "type": "scatter",
           "x": [
            12.64738021697849,
            4.185707269236445,
            10.700615999288857,
            12.64738021697849
           ],
           "y": [
            7.803006804548204,
            7.648181322962046,
            6.424419324845076,
            7.803006804548204
           ]
          }
         ],
         "name": "frame10"
        },
        {
         "data": [
          {
           "line": {
            "color": "red"
           },
           "mode": "lines",
           "name": "Triangle",
           "type": "scatter",
           "x": [
            8.507412764243782,
            12.64738021697849,
            10.700615999288857,
            8.507412764243782
           ],
           "y": [
            3.655031168833375,
            7.803006804548204,
            6.424419324845076,
            3.655031168833375
           ]
          }
         ],
         "name": "frame11"
        },
        {
         "data": [
          {
           "line": {
            "color": "red"
           },
           "mode": "lines",
           "name": "Triangle",
           "type": "scatter",
           "x": [
            8.507412764243782,
            10.700615999288857,
            6.757501590996981,
            8.507412764243782
           ],
           "y": [
            3.655031168833375,
            6.424419324845076,
            3.4017199594527483,
            3.655031168833375
           ]
          }
         ],
         "name": "frame12"
        },
        {
         "data": [
          {
           "line": {
            "color": "red"
           },
           "mode": "lines",
           "name": "Triangle",
           "type": "scatter",
           "x": [
            7.034027734771371,
            8.507412764243782,
            6.757501590996981,
            7.034027734771371
           ],
           "y": [
            1.6574246194213629,
            3.655031168833375,
            3.4017199594527483,
            1.6574246194213629
           ]
          }
         ],
         "name": "frame13"
        },
        {
         "data": [
          {
           "line": {
            "color": "red"
           },
           "mode": "lines",
           "name": "Triangle",
           "type": "scatter",
           "x": [
            4.56964466907084,
            7.034027734771371,
            6.757501590996981,
            4.56964466907084
           ],
           "y": [
            4.434112290851772,
            1.6574246194213629,
            3.4017199594527483,
            4.434112290851772
           ]
          }
         ],
         "name": "frame14"
        },
        {
         "data": [
          {
           "line": {
            "color": "red"
           },
           "mode": "lines",
           "name": "Triangle",
           "type": "scatter",
           "x": [
            -2.130536885932088,
            4.56964466907084,
            6.757501590996981,
            -2.130536885932088
           ],
           "y": [
            8.785307914018631,
            4.434112290851772,
            3.4017199594527483,
            8.785307914018631
           ]
          }
         ],
         "name": "frame15"
        },
        {
         "data": [
          {
           "line": {
            "color": "red"
           },
           "mode": "lines",
           "name": "Triangle",
           "type": "scatter",
           "x": [
            -2.130536885932088,
            6.757501590996981,
            3.6048890640959144,
            -2.130536885932088
           ],
           "y": [
            8.785307914018631,
            3.4017199594527483,
            6.543008344247937,
            8.785307914018631
           ]
          }
         ],
         "name": "frame16"
        },
        {
         "data": [
          {
           "line": {
            "color": "red"
           },
           "mode": "lines",
           "name": "Triangle",
           "type": "scatter",
           "x": [
            3.6048890640959144,
            2.9554162742570043,
            -2.130536885932088,
            3.6048890640959144
           ],
           "y": [
            6.543008344247937,
            6.858058384619653,
            8.785307914018631,
            6.543008344247937
           ]
          }
         ],
         "name": "frame17"
        }
       ],
       "layout": {
        "hovermode": "closest",
        "showlegend": true,
        "template": {
         "data": {
          "bar": [
           {
            "error_x": {
             "color": "#2a3f5f"
            },
            "error_y": {
             "color": "#2a3f5f"
            },
            "marker": {
             "line": {
              "color": "white",
              "width": 0.5
             },
             "pattern": {
              "fillmode": "overlay",
              "size": 10,
              "solidity": 0.2
             }
            },
            "type": "bar"
           }
          ],
          "barpolar": [
           {
            "marker": {
             "line": {
              "color": "white",
              "width": 0.5
             },
             "pattern": {
              "fillmode": "overlay",
              "size": 10,
              "solidity": 0.2
             }
            },
            "type": "barpolar"
           }
          ],
          "carpet": [
           {
            "aaxis": {
             "endlinecolor": "#2a3f5f",
             "gridcolor": "#C8D4E3",
             "linecolor": "#C8D4E3",
             "minorgridcolor": "#C8D4E3",
             "startlinecolor": "#2a3f5f"
            },
            "baxis": {
             "endlinecolor": "#2a3f5f",
             "gridcolor": "#C8D4E3",
             "linecolor": "#C8D4E3",
             "minorgridcolor": "#C8D4E3",
             "startlinecolor": "#2a3f5f"
            },
            "type": "carpet"
           }
          ],
          "choropleth": [
           {
            "colorbar": {
             "outlinewidth": 0,
             "ticks": ""
            },
            "type": "choropleth"
           }
          ],
          "contour": [
           {
            "colorbar": {
             "outlinewidth": 0,
             "ticks": ""
            },
            "colorscale": [
             [
              0,
              "#0d0887"
             ],
             [
              0.1111111111111111,
              "#46039f"
             ],
             [
              0.2222222222222222,
              "#7201a8"
             ],
             [
              0.3333333333333333,
              "#9c179e"
             ],
             [
              0.4444444444444444,
              "#bd3786"
             ],
             [
              0.5555555555555556,
              "#d8576b"
             ],
             [
              0.6666666666666666,
              "#ed7953"
             ],
             [
              0.7777777777777778,
              "#fb9f3a"
             ],
             [
              0.8888888888888888,
              "#fdca26"
             ],
             [
              1,
              "#f0f921"
             ]
            ],
            "type": "contour"
           }
          ],
          "contourcarpet": [
           {
            "colorbar": {
             "outlinewidth": 0,
             "ticks": ""
            },
            "type": "contourcarpet"
           }
          ],
          "heatmap": [
           {
            "colorbar": {
             "outlinewidth": 0,
             "ticks": ""
            },
            "colorscale": [
             [
              0,
              "#0d0887"
             ],
             [
              0.1111111111111111,
              "#46039f"
             ],
             [
              0.2222222222222222,
              "#7201a8"
             ],
             [
              0.3333333333333333,
              "#9c179e"
             ],
             [
              0.4444444444444444,
              "#bd3786"
             ],
             [
              0.5555555555555556,
              "#d8576b"
             ],
             [
              0.6666666666666666,
              "#ed7953"
             ],
             [
              0.7777777777777778,
              "#fb9f3a"
             ],
             [
              0.8888888888888888,
              "#fdca26"
             ],
             [
              1,
              "#f0f921"
             ]
            ],
            "type": "heatmap"
           }
          ],
          "heatmapgl": [
           {
            "colorbar": {
             "outlinewidth": 0,
             "ticks": ""
            },
            "colorscale": [
             [
              0,
              "#0d0887"
             ],
             [
              0.1111111111111111,
              "#46039f"
             ],
             [
              0.2222222222222222,
              "#7201a8"
             ],
             [
              0.3333333333333333,
              "#9c179e"
             ],
             [
              0.4444444444444444,
              "#bd3786"
             ],
             [
              0.5555555555555556,
              "#d8576b"
             ],
             [
              0.6666666666666666,
              "#ed7953"
             ],
             [
              0.7777777777777778,
              "#fb9f3a"
             ],
             [
              0.8888888888888888,
              "#fdca26"
             ],
             [
              1,
              "#f0f921"
             ]
            ],
            "type": "heatmapgl"
           }
          ],
          "histogram": [
           {
            "marker": {
             "pattern": {
              "fillmode": "overlay",
              "size": 10,
              "solidity": 0.2
             }
            },
            "type": "histogram"
           }
          ],
          "histogram2d": [
           {
            "colorbar": {
             "outlinewidth": 0,
             "ticks": ""
            },
            "colorscale": [
             [
              0,
              "#0d0887"
             ],
             [
              0.1111111111111111,
              "#46039f"
             ],
             [
              0.2222222222222222,
              "#7201a8"
             ],
             [
              0.3333333333333333,
              "#9c179e"
             ],
             [
              0.4444444444444444,
              "#bd3786"
             ],
             [
              0.5555555555555556,
              "#d8576b"
             ],
             [
              0.6666666666666666,
              "#ed7953"
             ],
             [
              0.7777777777777778,
              "#fb9f3a"
             ],
             [
              0.8888888888888888,
              "#fdca26"
             ],
             [
              1,
              "#f0f921"
             ]
            ],
            "type": "histogram2d"
           }
          ],
          "histogram2dcontour": [
           {
            "colorbar": {
             "outlinewidth": 0,
             "ticks": ""
            },
            "colorscale": [
             [
              0,
              "#0d0887"
             ],
             [
              0.1111111111111111,
              "#46039f"
             ],
             [
              0.2222222222222222,
              "#7201a8"
             ],
             [
              0.3333333333333333,
              "#9c179e"
             ],
             [
              0.4444444444444444,
              "#bd3786"
             ],
             [
              0.5555555555555556,
              "#d8576b"
             ],
             [
              0.6666666666666666,
              "#ed7953"
             ],
             [
              0.7777777777777778,
              "#fb9f3a"
             ],
             [
              0.8888888888888888,
              "#fdca26"
             ],
             [
              1,
              "#f0f921"
             ]
            ],
            "type": "histogram2dcontour"
           }
          ],
          "mesh3d": [
           {
            "colorbar": {
             "outlinewidth": 0,
             "ticks": ""
            },
            "type": "mesh3d"
           }
          ],
          "parcoords": [
           {
            "line": {
             "colorbar": {
              "outlinewidth": 0,
              "ticks": ""
             }
            },
            "type": "parcoords"
           }
          ],
          "pie": [
           {
            "automargin": true,
            "type": "pie"
           }
          ],
          "scatter": [
           {
            "fillpattern": {
             "fillmode": "overlay",
             "size": 10,
             "solidity": 0.2
            },
            "type": "scatter"
           }
          ],
          "scatter3d": [
           {
            "line": {
             "colorbar": {
              "outlinewidth": 0,
              "ticks": ""
             }
            },
            "marker": {
             "colorbar": {
              "outlinewidth": 0,
              "ticks": ""
             }
            },
            "type": "scatter3d"
           }
          ],
          "scattercarpet": [
           {
            "marker": {
             "colorbar": {
              "outlinewidth": 0,
              "ticks": ""
             }
            },
            "type": "scattercarpet"
           }
          ],
          "scattergeo": [
           {
            "marker": {
             "colorbar": {
              "outlinewidth": 0,
              "ticks": ""
             }
            },
            "type": "scattergeo"
           }
          ],
          "scattergl": [
           {
            "marker": {
             "colorbar": {
              "outlinewidth": 0,
              "ticks": ""
             }
            },
            "type": "scattergl"
           }
          ],
          "scattermapbox": [
           {
            "marker": {
             "colorbar": {
              "outlinewidth": 0,
              "ticks": ""
             }
            },
            "type": "scattermapbox"
           }
          ],
          "scatterpolar": [
           {
            "marker": {
             "colorbar": {
              "outlinewidth": 0,
              "ticks": ""
             }
            },
            "type": "scatterpolar"
           }
          ],
          "scatterpolargl": [
           {
            "marker": {
             "colorbar": {
              "outlinewidth": 0,
              "ticks": ""
             }
            },
            "type": "scatterpolargl"
           }
          ],
          "scatterternary": [
           {
            "marker": {
             "colorbar": {
              "outlinewidth": 0,
              "ticks": ""
             }
            },
            "type": "scatterternary"
           }
          ],
          "surface": [
           {
            "colorbar": {
             "outlinewidth": 0,
             "ticks": ""
            },
            "colorscale": [
             [
              0,
              "#0d0887"
             ],
             [
              0.1111111111111111,
              "#46039f"
             ],
             [
              0.2222222222222222,
              "#7201a8"
             ],
             [
              0.3333333333333333,
              "#9c179e"
             ],
             [
              0.4444444444444444,
              "#bd3786"
             ],
             [
              0.5555555555555556,
              "#d8576b"
             ],
             [
              0.6666666666666666,
              "#ed7953"
             ],
             [
              0.7777777777777778,
              "#fb9f3a"
             ],
             [
              0.8888888888888888,
              "#fdca26"
             ],
             [
              1,
              "#f0f921"
             ]
            ],
            "type": "surface"
           }
          ],
          "table": [
           {
            "cells": {
             "fill": {
              "color": "#EBF0F8"
             },
             "line": {
              "color": "white"
             }
            },
            "header": {
             "fill": {
              "color": "#C8D4E3"
             },
             "line": {
              "color": "white"
             }
            },
            "type": "table"
           }
          ]
         },
         "layout": {
          "annotationdefaults": {
           "arrowcolor": "#2a3f5f",
           "arrowhead": 0,
           "arrowwidth": 1
          },
          "autotypenumbers": "strict",
          "coloraxis": {
           "colorbar": {
            "outlinewidth": 0,
            "ticks": ""
           }
          },
          "colorscale": {
           "diverging": [
            [
             0,
             "#8e0152"
            ],
            [
             0.1,
             "#c51b7d"
            ],
            [
             0.2,
             "#de77ae"
            ],
            [
             0.3,
             "#f1b6da"
            ],
            [
             0.4,
             "#fde0ef"
            ],
            [
             0.5,
             "#f7f7f7"
            ],
            [
             0.6,
             "#e6f5d0"
            ],
            [
             0.7,
             "#b8e186"
            ],
            [
             0.8,
             "#7fbc41"
            ],
            [
             0.9,
             "#4d9221"
            ],
            [
             1,
             "#276419"
            ]
           ],
           "sequential": [
            [
             0,
             "#0d0887"
            ],
            [
             0.1111111111111111,
             "#46039f"
            ],
            [
             0.2222222222222222,
             "#7201a8"
            ],
            [
             0.3333333333333333,
             "#9c179e"
            ],
            [
             0.4444444444444444,
             "#bd3786"
            ],
            [
             0.5555555555555556,
             "#d8576b"
            ],
            [
             0.6666666666666666,
             "#ed7953"
            ],
            [
             0.7777777777777778,
             "#fb9f3a"
            ],
            [
             0.8888888888888888,
             "#fdca26"
            ],
            [
             1,
             "#f0f921"
            ]
           ],
           "sequentialminus": [
            [
             0,
             "#0d0887"
            ],
            [
             0.1111111111111111,
             "#46039f"
            ],
            [
             0.2222222222222222,
             "#7201a8"
            ],
            [
             0.3333333333333333,
             "#9c179e"
            ],
            [
             0.4444444444444444,
             "#bd3786"
            ],
            [
             0.5555555555555556,
             "#d8576b"
            ],
            [
             0.6666666666666666,
             "#ed7953"
            ],
            [
             0.7777777777777778,
             "#fb9f3a"
            ],
            [
             0.8888888888888888,
             "#fdca26"
            ],
            [
             1,
             "#f0f921"
            ]
           ]
          },
          "colorway": [
           "#636efa",
           "#EF553B",
           "#00cc96",
           "#ab63fa",
           "#FFA15A",
           "#19d3f3",
           "#FF6692",
           "#B6E880",
           "#FF97FF",
           "#FECB52"
          ],
          "font": {
           "color": "#2a3f5f"
          },
          "geo": {
           "bgcolor": "white",
           "lakecolor": "white",
           "landcolor": "white",
           "showlakes": true,
           "showland": true,
           "subunitcolor": "#C8D4E3"
          },
          "hoverlabel": {
           "align": "left"
          },
          "hovermode": "closest",
          "mapbox": {
           "style": "light"
          },
          "paper_bgcolor": "white",
          "plot_bgcolor": "white",
          "polar": {
           "angularaxis": {
            "gridcolor": "#EBF0F8",
            "linecolor": "#EBF0F8",
            "ticks": ""
           },
           "bgcolor": "white",
           "radialaxis": {
            "gridcolor": "#EBF0F8",
            "linecolor": "#EBF0F8",
            "ticks": ""
           }
          },
          "scene": {
           "xaxis": {
            "backgroundcolor": "white",
            "gridcolor": "#DFE8F3",
            "gridwidth": 2,
            "linecolor": "#EBF0F8",
            "showbackground": true,
            "ticks": "",
            "zerolinecolor": "#EBF0F8"
           },
           "yaxis": {
            "backgroundcolor": "white",
            "gridcolor": "#DFE8F3",
            "gridwidth": 2,
            "linecolor": "#EBF0F8",
            "showbackground": true,
            "ticks": "",
            "zerolinecolor": "#EBF0F8"
           },
           "zaxis": {
            "backgroundcolor": "white",
            "gridcolor": "#DFE8F3",
            "gridwidth": 2,
            "linecolor": "#EBF0F8",
            "showbackground": true,
            "ticks": "",
            "zerolinecolor": "#EBF0F8"
           }
          },
          "shapedefaults": {
           "line": {
            "color": "#2a3f5f"
           }
          },
          "ternary": {
           "aaxis": {
            "gridcolor": "#DFE8F3",
            "linecolor": "#A2B1C6",
            "ticks": ""
           },
           "baxis": {
            "gridcolor": "#DFE8F3",
            "linecolor": "#A2B1C6",
            "ticks": ""
           },
           "bgcolor": "white",
           "caxis": {
            "gridcolor": "#DFE8F3",
            "linecolor": "#A2B1C6",
            "ticks": ""
           }
          },
          "title": {
           "x": 0.05
          },
          "xaxis": {
           "automargin": true,
           "gridcolor": "#EBF0F8",
           "linecolor": "#EBF0F8",
           "ticks": "",
           "title": {
            "standoff": 15
           },
           "zerolinecolor": "#EBF0F8",
           "zerolinewidth": 2
          },
          "yaxis": {
           "automargin": true,
           "gridcolor": "#EBF0F8",
           "linecolor": "#EBF0F8",
           "ticks": "",
           "title": {
            "standoff": 15
           },
           "zerolinecolor": "#EBF0F8",
           "zerolinewidth": 2
          }
         }
        },
        "updatemenus": [
         {
          "buttons": [
           {
            "args": [
             null,
             {
              "frame": {
               "duration": 500,
               "redraw": true
              },
              "fromcurrent": true,
              "transition": {
               "duration": 300,
               "easing": "quadratic-in-out"
              }
             }
            ],
            "label": "Play",
            "method": "animate"
           },
           {
            "args": [
             [
              null
             ],
             {
              "frame": {
               "duration": 0,
               "redraw": false
              },
              "mode": "immediate",
              "transition": {
               "duration": 0
              }
             }
            ],
            "label": "Pause",
            "method": "animate"
           }
          ],
          "type": "buttons"
         }
        ],
        "xaxis": {
         "title": {
          "text": "X"
         }
        },
        "yaxis": {
         "title": {
          "text": "Y"
         }
        }
       }
      }
     },
     "metadata": {},
     "output_type": "display_data"
    },
    {
     "name": "stdout",
     "output_type": "stream",
     "text": [
      "tempo levado: 0.0010\n"
     ]
    }
   ],
   "source": [
    "input = 'agp2009a-simplerand/randsimple-20-1.pol'\n",
    "poly = Polygon(input)\n",
    "poly.plot()\n",
    "t_i = time.time()\n",
    "triangulate = poly.triangulate()\n",
    "t_f = time.time()\n",
    "poly.plot(triangulate)\n",
    "print(f\"tempo levado: {(t_f-t_i):.4f}\")"
   ]
  },
  {
   "cell_type": "code",
   "execution_count": null,
   "metadata": {},
   "outputs": [],
   "source": []
  },
  {
   "cell_type": "markdown",
   "metadata": {},
   "source": [
    "Referências:\n",
    "\n",
    "https://www.geeksforgeeks.org/timing-functions-with-decorators-python/\n",
    "https://www.geometrictools.com/Documentation/TriangulationByEarClipping.pdf\n",
    "https://github.com/yaugenst/triangulation/tree/master\n",
    "https://www.w3schools.com/css/css_colors_rgb.asp"
   ]
  }
 ],
 "metadata": {
  "kernelspec": {
   "display_name": "Python 3",
   "language": "python",
   "name": "python3"
  },
  "language_info": {
   "codemirror_mode": {
    "name": "ipython",
    "version": 3
   },
   "file_extension": ".py",
   "mimetype": "text/x-python",
   "name": "python",
   "nbconvert_exporter": "python",
   "pygments_lexer": "ipython3",
   "version": "3.11.0"
  }
 },
 "nbformat": 4,
 "nbformat_minor": 2
}
