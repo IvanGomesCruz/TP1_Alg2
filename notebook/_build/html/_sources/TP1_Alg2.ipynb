{
 "cells": [
  {
   "cell_type": "markdown",
   "metadata": {},
   "source": [
    "# Bibliotecas Utilizadas\n",
    "\n",
    "Time: medição de tempo de execução para graficos comparativos\n",
    "Plotly: plotagem das figuras animadas e graficos"
   ]
  },
  {
   "cell_type": "code",
   "execution_count": 1,
   "metadata": {},
   "outputs": [],
   "source": [
    "import time\n",
    "import plotly.graph_objects as go"
   ]
  },
  {
   "cell_type": "markdown",
   "metadata": {},
   "source": [
    "# Classes Base\n",
    "\n",
    "A classe Vertex representa cada um dos vértices passados pela entrada e armazena as coordenadas do vertice, o indice dele, a cor dele e os indices de seus vizinhos.\n"
   ]
  },
  {
   "cell_type": "code",
   "execution_count": 2,
   "metadata": {},
   "outputs": [],
   "source": [
    "class Vertex:\n",
    "    def __init__(self,x_coord, y_coord,next_index, prev_index, index):\n",
    "        self.x = x_coord\n",
    "        self.y = y_coord\n",
    "        self.next = next_index\n",
    "        self.prev = prev_index\n",
    "        self.index = index\n",
    "        self.color = None\n"
   ]
  },
  {
   "cell_type": "markdown",
   "metadata": {},
   "source": [
    "A classe Polygon representa o poligono passado na entrada, ela armazena a lista de vertices que formam o poligono, a lista de coordenadas x e a lista de coordenadas y. Como funções possui a init responsável pela leitura do arquivo de entrada e criação dos vertices. E a função plot, responsável por exibir o poligono e seu processo de triangulação."
   ]
  },
  {
   "cell_type": "code",
   "execution_count": 3,
   "metadata": {},
   "outputs": [],
   "source": [
    "class Polygon:\n",
    "    def __init__(self, filename):\n",
    "        self.x_coords = []\n",
    "        self.y_coords = []\n",
    "        self.vertex_list = []\n",
    "        with open(filename, 'r') as file:\n",
    "            for line in file:\n",
    "                parts = line.strip().split()\n",
    "                num_vertices = int(parts[0])\n",
    "                #print(num_vertices)\n",
    "                for i in range(num_vertices):\n",
    "                    x_str, y_str = parts[2 * i + 1], parts[2 * i + 2]\n",
    "                    num, dem = map(int, x_str.split('/'))\n",
    "                    x_coord = num / dem\n",
    "                    self.x_coords.append(x_coord)\n",
    "                    num, dem = map(int, y_str.split('/'))\n",
    "                    y_coord = num / dem\n",
    "                    self.y_coords.append(y_coord)\n",
    "                    self.vertex_list.append(Vertex(x_coord, y_coord, (i+1)%num_vertices, (i-1)%num_vertices , i))\n",
    "    \n",
    "    def plot(self, triangles=None):\n",
    "        fig = go.Figure()\n",
    "    \n",
    "        fig.add_trace(go.Scatter(x=self.x_coords + [self.x_coords[0]], y=self.y_coords + [self.y_coords[0]], fill='toself', fillcolor='rgba(0, 0, 139, 0.2)',\n",
    "                                 mode='lines+markers', name='Triangle'))\n",
    "    \n",
    "    \n",
    "        fig.update_layout(\n",
    "            xaxis=dict(title='X'),\n",
    "            yaxis=dict(title='Y'),\n",
    "            showlegend=True,\n",
    "            hovermode='closest',\n",
    "            template='plotly_white',\n",
    "            updatemenus=[{'type': 'buttons',\n",
    "                          'buttons': [{'label': 'Play',\n",
    "                                       'method': 'animate',\n",
    "                                       'args': [None, {'frame': {'duration': 500, 'redraw': True}, 'fromcurrent': True, 'transition': {'duration': 300, 'easing': 'quadratic-in-out'}}]},\n",
    "                                     {'label': 'Pause',\n",
    "                                      'method': 'animate',\n",
    "                                      'args': [[None], {'frame': {'duration': 0, 'redraw': False}, 'mode': 'immediate', 'transition': {'duration': 0}}]}]}]\n",
    "        )\n",
    "        if triangles:\n",
    "            frames = []\n",
    "            fig.add_trace(go.Scatter(x=self.x_coords + [self.x_coords[0]], y=self.y_coords + [self.y_coords[0]], fill='toself', fillcolor='rgba(34, 200, 255, 0.2)',\n",
    "                                     mode='lines+markers', name='Polygon'))\n",
    "\n",
    "            triangles_x = []\n",
    "            triangles_y = []\n",
    "\n",
    "            for i, triangle in enumerate(triangles):\n",
    "                triangle_x = [triangle[0].x, triangle[1].x, triangle[2].x, triangle[0].x]\n",
    "                triangle_y = [triangle[0].y, triangle[1].y, triangle[2].y, triangle[0].y]\n",
    "\n",
    "\n",
    "\n",
    "                triangles_x.extend(triangle_x + [None])\n",
    "                triangles_y.extend(triangle_y + [None])\n",
    "\n",
    "                frame = go.Frame(data=[go.Scatter(x=triangles_x, y=triangles_y, mode='lines', line=dict(color='blue'), name='Triangles')],\n",
    "                                 name=f'frame{i}')\n",
    "                frames.append(frame)\n",
    "\n",
    "            fig.frames = frames\n",
    "    \n",
    "        return fig"
   ]
  },
  {
   "cell_type": "markdown",
   "metadata": {},
   "source": [
    "# Funções para tringulação\n",
    "\n",
    "A função triangulate é responsável por criar e retornar uma lista com os triangulos encontrados pelo metodo e Ear Clipping"
   ]
  },
  {
   "cell_type": "code",
   "execution_count": 4,
   "metadata": {},
   "outputs": [],
   "source": [
    "\n",
    "def triangulate(poly):\n",
    "        triangles = []\n",
    "        vertices = poly.vertex_list[:]\n",
    "        \n",
    "        while len(vertices) > 3:\n",
    "            for i in range(len(vertices)):\n",
    "                prev_index = (i - 1) % len(vertices)\n",
    "                next_index = (i + 1) % len(vertices)\n",
    "                \n",
    "                ear_found = ear(vertices[prev_index], vertices[i], vertices[next_index],vertices)\n",
    "                if ear_found:\n",
    "                    triangles.append((vertices[prev_index], vertices[i], vertices[next_index]))\n",
    "                    #poly.plot(triangles)\n",
    "                    vertices.pop(i)\n",
    "                    break\n",
    "        \n",
    "        triangles.append((vertices[0], vertices[1], vertices[2]))\n",
    "\n",
    "        return triangles"
   ]
  },
  {
   "cell_type": "markdown",
   "metadata": {},
   "source": [
    "**Análise de Complexidade**\n",
    "\n",
    "Considerando que a cada iteração do loop externo um vértice será removido da lista de vertices, ele irá executar v-3 vezes, no pior dos casos a orelha será encontrada sempre na ultima iteração do loop interno, neste loop existe o custo da chamada de ear O(v)+ o custo de remover um elemento da lista (cada iteração a lista tem um elemento a menos) então o custo pode ser descrito pelo somatório abaixo:\n",
    "\n",
    "$$\n",
    "\\sum_{i=1}^{v-3} \\sum_{j=1}^{v-i} v-i = 1/6 (-30 + v - 3 v^2 + 2 v^3)\n",
    "$$\n",
    "\n",
    "Portanto o custo é da ordem de $O(v^3)$ no pior caso."
   ]
  },
  {
   "cell_type": "markdown",
   "metadata": {},
   "source": [
    "# Ear Clipping\n",
    "\n",
    "O método Ear clipping identifica triangulos no polígono ao observar se 3 vértices consecutivos formam uma orelha (o tirângulo formado é convexo e nenhum outro vertice está dentro da área delimitada pelo triangulo)."
   ]
  },
  {
   "cell_type": "code",
   "execution_count": 5,
   "metadata": {},
   "outputs": [],
   "source": [
    "def ear(prev_vertex, ear_vertex, next_vertex, vertices):\n",
    "        if convex(prev_vertex, ear_vertex, next_vertex):\n",
    "            for v in vertices:\n",
    "                if v != prev_vertex and v != ear_vertex and v != next_vertex:\n",
    "                    if inTriangle(v, prev_vertex, ear_vertex, next_vertex):\n",
    "                        return False\n",
    "            return True\n",
    "        return False\n",
    "    \n",
    "def convex(prev_vertex, curr_vertex, next_vertex):\n",
    "    return vetorialProduct(prev_vertex, curr_vertex, next_vertex) > 0\n",
    "\n",
    "def vetorialProduct(v1, v2, v3):\n",
    "    return (v2.x - v1.x) * (v3.y - v1.y) - (v2.y - v1.y) * (v3.x - v1.x)\n",
    "\n",
    "\n",
    "def inTriangle(v, v1, v2, v3):\n",
    "    d1 = vetorialProduct(v2,v,v1)\n",
    "    d2 = vetorialProduct(v3,v,v2)\n",
    "    d3 = vetorialProduct(v1,v,v3)\n",
    "    return not ((d1 < 0 or d2 < 0 or d3 < 0) and (d1 > 0 or d2 > 0 or d3 > 0))\n"
   ]
  },
  {
   "cell_type": "markdown",
   "metadata": {},
   "source": [
    "**Análise de Complexidade**\n",
    "- **vetorialProduct**\n",
    "\n",
    "    Apenas realiza operações aritmeticas simples, portanto **O(1)**\n",
    "\n",
    "- **convex**\n",
    "\n",
    "    Apenas uma chamada de vetorialProduct, portanto **O(1)**\n",
    "\n",
    "- **inTriangle**\n",
    "\n",
    "    Três chamadas de vetorialProduct mais operações booleanas, portanto 3 O(1) + O(1) = **O(1)**\n",
    "\n",
    "- **ear**\n",
    "\n",
    "    Primeiro faz uma chamada de convex e no pior caso (convex sendo true) realiza um loop com o número de iterações igual ao número de vertices na entrada, dentro do loop realiza operações booleanas e chamadas de inTriangle, portanto: O(1) + O(v)O(1) = **O(v)**"
   ]
  },
  {
   "cell_type": "markdown",
   "metadata": {},
   "source": [
    "# 3-Coloração"
   ]
  },
  {
   "cell_type": "markdown",
   "metadata": {},
   "source": [
    "Para encontrar o número de cameras necessárias para cobrir toda a área a partir da triangulação, devemos encontrar uma 3-coloração da triangulação (coloração onde em um mesmo triangulo dois vértices não compartilhem a mesma cor).\n",
    "\n",
    "Para esse fim implementei uma abordagem gulosa onde para cada triangulo da lista de triangulação, verifico as cores já utilizadas nos vertices e para cada vertice ainda não colorido atribuo uma cor que ainda não foi utilizada.\n",
    "\n",
    "No fim verifico quantos vertices temos de cada cor e o número de câmeras é igual ao minimo entre as cores. "
   ]
  },
  {
   "cell_type": "code",
   "execution_count": 6,
   "metadata": {},
   "outputs": [],
   "source": [
    "\n",
    "def three_color(triangles):\n",
    "    color_count = {0: 0, 1: 0, 2: 0}\n",
    "\n",
    "    for triangle in triangles:\n",
    "            used_colors = {v.color for v in triangle if v.color is not None}\n",
    "    \n",
    "            for v in triangle:\n",
    "                if v.color is None:\n",
    "                    for color in range(3):\n",
    "                        if color not in used_colors:\n",
    "                            v.color = color\n",
    "                            color_count[color] += 1\n",
    "                            used_colors.add(color)\n",
    "                            break\n",
    "\n",
    "    return color_count\n",
    "\n"
   ]
  },
  {
   "cell_type": "markdown",
   "metadata": {},
   "source": [
    "**Análise de Complexidade:**\n",
    "\n",
    "- Os loops internos executarão 3 vezes cada já que temos 3 vértices por triangulo e 3 cores, sendo assim o custo é constante O(1), já o loop mais externo executa um número de vezes igual a o número de triangulos na triangulação O(t), portanto o custo é dado por:\n",
    "   <center> O(1)O(t) = O(t)"
   ]
  },
  {
   "cell_type": "code",
   "execution_count": 7,
   "metadata": {},
   "outputs": [],
   "source": [
    "\n",
    "def print_colors(poly,triangles):\n",
    "    fig = go.Figure()\n",
    "    fig.add_trace(go.Scatter(x=poly.x_coords + [poly.x_coords[0]], y=poly.y_coords + [poly.y_coords[0]], fill='toself', fillcolor='rgba(34, 200, 255, 0.2)',\n",
    "                                     mode='lines+markers', name='Polygon'))\n",
    "    frames = []\n",
    "    triangles_x = []\n",
    "    triangles_y = []\n",
    "\n",
    "    for i, triangle in enumerate(triangles):\n",
    "        triangle_x = [triangle[0].x, triangle[1].x, triangle[2].x, triangle[0].x]\n",
    "        triangle_y = [triangle[0].y, triangle[1].y, triangle[2].y, triangle[0].y]\n",
    "        triangles_x.extend(triangle_x + [None])\n",
    "        triangles_y.extend(triangle_y + [None])\n",
    "    fig.add_trace(go.Scatter(x=triangles_x, y=triangles_y, mode='lines', line=dict(color='blue'), name='Triangles'))\n",
    "\n",
    "    color_mapping = {0: 'blue', 1: 'green', 2: 'red'}\n",
    "    for v in poly.vertex_list:\n",
    "        color = color_mapping[v.color]\n",
    "        fig.add_trace(go.Scatter(x=[v.x], y=[v.y], mode='markers', marker=dict(color=color, size=10),showlegend=False))\n",
    "    fig.show()"
   ]
  },
  {
   "cell_type": "code",
   "execution_count": 8,
   "metadata": {},
   "outputs": [
    {
     "data": {
      "application/vnd.plotly.v1+json": {
       "config": {
        "plotlyServerURL": "https://plot.ly"
       },
       "data": [
        {
         "fill": "toself",
         "fillcolor": "rgba(0, 0, 139, 0.2)",
         "mode": "lines+markers",
         "name": "Triangle",
         "type": "scatter",
         "x": [
          3.3453252939507365,
          4.56964466907084,
          2.990969273261726,
          -1.648869906552136,
          7.07633207179606,
          7.034027734771371,
          8.507412764243782,
          13.109639695845544,
          12.64738021697849,
          6.054546925249171,
          3.5821968968957663,
          14.26908371038735,
          9.838039012625813,
          0.8827832043170929,
          4.185707269236445,
          10.700615999288857,
          6.757501590996981,
          3.6048890640959144,
          2.9554162742570043,
          -2.130536885932088,
          3.3453252939507365
         ],
         "y": [
          5.152417876757681,
          4.434112290851772,
          4.358941366896033,
          5.944620854221284,
          1.166239351965487,
          1.6574246194213629,
          3.655031168833375,
          5.455331605859101,
          7.803006804548204,
          7.866376008838415,
          9.926278525032103,
          9.825916112400591,
          10.504358172416687,
          10.70221396535635,
          7.648181322962046,
          6.424419324845076,
          3.4017199594527483,
          6.543008344247937,
          6.858058384619653,
          8.785307914018631,
          5.152417876757681
         ]
        },
        {
         "fill": "toself",
         "fillcolor": "rgba(34, 200, 255, 0.2)",
         "mode": "lines+markers",
         "name": "Polygon",
         "type": "scatter",
         "x": [
          3.3453252939507365,
          4.56964466907084,
          2.990969273261726,
          -1.648869906552136,
          7.07633207179606,
          7.034027734771371,
          8.507412764243782,
          13.109639695845544,
          12.64738021697849,
          6.054546925249171,
          3.5821968968957663,
          14.26908371038735,
          9.838039012625813,
          0.8827832043170929,
          4.185707269236445,
          10.700615999288857,
          6.757501590996981,
          3.6048890640959144,
          2.9554162742570043,
          -2.130536885932088,
          3.3453252939507365
         ],
         "y": [
          5.152417876757681,
          4.434112290851772,
          4.358941366896033,
          5.944620854221284,
          1.166239351965487,
          1.6574246194213629,
          3.655031168833375,
          5.455331605859101,
          7.803006804548204,
          7.866376008838415,
          9.926278525032103,
          9.825916112400591,
          10.504358172416687,
          10.70221396535635,
          7.648181322962046,
          6.424419324845076,
          3.4017199594527483,
          6.543008344247937,
          6.858058384619653,
          8.785307914018631,
          5.152417876757681
         ]
        }
       ],
       "frames": [
        {
         "data": [
          {
           "line": {
            "color": "blue"
           },
           "mode": "lines",
           "name": "Triangles",
           "type": "scatter",
           "x": [
            -2.130536885932088,
            3.3453252939507365,
            4.56964466907084,
            -2.130536885932088,
            null
           ],
           "y": [
            8.785307914018631,
            5.152417876757681,
            4.434112290851772,
            8.785307914018631,
            null
           ]
          }
         ],
         "name": "frame0"
        },
        {
         "data": [
          {
           "line": {
            "color": "blue"
           },
           "mode": "lines",
           "name": "Triangles",
           "type": "scatter",
           "x": [
            -2.130536885932088,
            3.3453252939507365,
            4.56964466907084,
            -2.130536885932088,
            null,
            2.990969273261726,
            -1.648869906552136,
            7.07633207179606,
            2.990969273261726,
            null
           ],
           "y": [
            8.785307914018631,
            5.152417876757681,
            4.434112290851772,
            8.785307914018631,
            null,
            4.358941366896033,
            5.944620854221284,
            1.166239351965487,
            4.358941366896033,
            null
           ]
          }
         ],
         "name": "frame1"
        },
        {
         "data": [
          {
           "line": {
            "color": "blue"
           },
           "mode": "lines",
           "name": "Triangles",
           "type": "scatter",
           "x": [
            -2.130536885932088,
            3.3453252939507365,
            4.56964466907084,
            -2.130536885932088,
            null,
            2.990969273261726,
            -1.648869906552136,
            7.07633207179606,
            2.990969273261726,
            null,
            4.56964466907084,
            2.990969273261726,
            7.07633207179606,
            4.56964466907084,
            null
           ],
           "y": [
            8.785307914018631,
            5.152417876757681,
            4.434112290851772,
            8.785307914018631,
            null,
            4.358941366896033,
            5.944620854221284,
            1.166239351965487,
            4.358941366896033,
            null,
            4.434112290851772,
            4.358941366896033,
            1.166239351965487,
            4.434112290851772,
            null
           ]
          }
         ],
         "name": "frame2"
        },
        {
         "data": [
          {
           "line": {
            "color": "blue"
           },
           "mode": "lines",
           "name": "Triangles",
           "type": "scatter",
           "x": [
            -2.130536885932088,
            3.3453252939507365,
            4.56964466907084,
            -2.130536885932088,
            null,
            2.990969273261726,
            -1.648869906552136,
            7.07633207179606,
            2.990969273261726,
            null,
            4.56964466907084,
            2.990969273261726,
            7.07633207179606,
            4.56964466907084,
            null,
            4.56964466907084,
            7.07633207179606,
            7.034027734771371,
            4.56964466907084,
            null
           ],
           "y": [
            8.785307914018631,
            5.152417876757681,
            4.434112290851772,
            8.785307914018631,
            null,
            4.358941366896033,
            5.944620854221284,
            1.166239351965487,
            4.358941366896033,
            null,
            4.434112290851772,
            4.358941366896033,
            1.166239351965487,
            4.434112290851772,
            null,
            4.434112290851772,
            1.166239351965487,
            1.6574246194213629,
            4.434112290851772,
            null
           ]
          }
         ],
         "name": "frame3"
        },
        {
         "data": [
          {
           "line": {
            "color": "blue"
           },
           "mode": "lines",
           "name": "Triangles",
           "type": "scatter",
           "x": [
            -2.130536885932088,
            3.3453252939507365,
            4.56964466907084,
            -2.130536885932088,
            null,
            2.990969273261726,
            -1.648869906552136,
            7.07633207179606,
            2.990969273261726,
            null,
            4.56964466907084,
            2.990969273261726,
            7.07633207179606,
            4.56964466907084,
            null,
            4.56964466907084,
            7.07633207179606,
            7.034027734771371,
            4.56964466907084,
            null,
            8.507412764243782,
            13.109639695845544,
            12.64738021697849,
            8.507412764243782,
            null
           ],
           "y": [
            8.785307914018631,
            5.152417876757681,
            4.434112290851772,
            8.785307914018631,
            null,
            4.358941366896033,
            5.944620854221284,
            1.166239351965487,
            4.358941366896033,
            null,
            4.434112290851772,
            4.358941366896033,
            1.166239351965487,
            4.434112290851772,
            null,
            4.434112290851772,
            1.166239351965487,
            1.6574246194213629,
            4.434112290851772,
            null,
            3.655031168833375,
            5.455331605859101,
            7.803006804548204,
            3.655031168833375,
            null
           ]
          }
         ],
         "name": "frame4"
        },
        {
         "data": [
          {
           "line": {
            "color": "blue"
           },
           "mode": "lines",
           "name": "Triangles",
           "type": "scatter",
           "x": [
            -2.130536885932088,
            3.3453252939507365,
            4.56964466907084,
            -2.130536885932088,
            null,
            2.990969273261726,
            -1.648869906552136,
            7.07633207179606,
            2.990969273261726,
            null,
            4.56964466907084,
            2.990969273261726,
            7.07633207179606,
            4.56964466907084,
            null,
            4.56964466907084,
            7.07633207179606,
            7.034027734771371,
            4.56964466907084,
            null,
            8.507412764243782,
            13.109639695845544,
            12.64738021697849,
            8.507412764243782,
            null,
            3.5821968968957663,
            14.26908371038735,
            9.838039012625813,
            3.5821968968957663,
            null
           ],
           "y": [
            8.785307914018631,
            5.152417876757681,
            4.434112290851772,
            8.785307914018631,
            null,
            4.358941366896033,
            5.944620854221284,
            1.166239351965487,
            4.358941366896033,
            null,
            4.434112290851772,
            4.358941366896033,
            1.166239351965487,
            4.434112290851772,
            null,
            4.434112290851772,
            1.166239351965487,
            1.6574246194213629,
            4.434112290851772,
            null,
            3.655031168833375,
            5.455331605859101,
            7.803006804548204,
            3.655031168833375,
            null,
            9.926278525032103,
            9.825916112400591,
            10.504358172416687,
            9.926278525032103,
            null
           ]
          }
         ],
         "name": "frame5"
        },
        {
         "data": [
          {
           "line": {
            "color": "blue"
           },
           "mode": "lines",
           "name": "Triangles",
           "type": "scatter",
           "x": [
            -2.130536885932088,
            3.3453252939507365,
            4.56964466907084,
            -2.130536885932088,
            null,
            2.990969273261726,
            -1.648869906552136,
            7.07633207179606,
            2.990969273261726,
            null,
            4.56964466907084,
            2.990969273261726,
            7.07633207179606,
            4.56964466907084,
            null,
            4.56964466907084,
            7.07633207179606,
            7.034027734771371,
            4.56964466907084,
            null,
            8.507412764243782,
            13.109639695845544,
            12.64738021697849,
            8.507412764243782,
            null,
            3.5821968968957663,
            14.26908371038735,
            9.838039012625813,
            3.5821968968957663,
            null,
            3.5821968968957663,
            9.838039012625813,
            0.8827832043170929,
            3.5821968968957663,
            null
           ],
           "y": [
            8.785307914018631,
            5.152417876757681,
            4.434112290851772,
            8.785307914018631,
            null,
            4.358941366896033,
            5.944620854221284,
            1.166239351965487,
            4.358941366896033,
            null,
            4.434112290851772,
            4.358941366896033,
            1.166239351965487,
            4.434112290851772,
            null,
            4.434112290851772,
            1.166239351965487,
            1.6574246194213629,
            4.434112290851772,
            null,
            3.655031168833375,
            5.455331605859101,
            7.803006804548204,
            3.655031168833375,
            null,
            9.926278525032103,
            9.825916112400591,
            10.504358172416687,
            9.926278525032103,
            null,
            9.926278525032103,
            10.504358172416687,
            10.70221396535635,
            9.926278525032103,
            null
           ]
          }
         ],
         "name": "frame6"
        },
        {
         "data": [
          {
           "line": {
            "color": "blue"
           },
           "mode": "lines",
           "name": "Triangles",
           "type": "scatter",
           "x": [
            -2.130536885932088,
            3.3453252939507365,
            4.56964466907084,
            -2.130536885932088,
            null,
            2.990969273261726,
            -1.648869906552136,
            7.07633207179606,
            2.990969273261726,
            null,
            4.56964466907084,
            2.990969273261726,
            7.07633207179606,
            4.56964466907084,
            null,
            4.56964466907084,
            7.07633207179606,
            7.034027734771371,
            4.56964466907084,
            null,
            8.507412764243782,
            13.109639695845544,
            12.64738021697849,
            8.507412764243782,
            null,
            3.5821968968957663,
            14.26908371038735,
            9.838039012625813,
            3.5821968968957663,
            null,
            3.5821968968957663,
            9.838039012625813,
            0.8827832043170929,
            3.5821968968957663,
            null,
            6.054546925249171,
            3.5821968968957663,
            0.8827832043170929,
            6.054546925249171,
            null
           ],
           "y": [
            8.785307914018631,
            5.152417876757681,
            4.434112290851772,
            8.785307914018631,
            null,
            4.358941366896033,
            5.944620854221284,
            1.166239351965487,
            4.358941366896033,
            null,
            4.434112290851772,
            4.358941366896033,
            1.166239351965487,
            4.434112290851772,
            null,
            4.434112290851772,
            1.166239351965487,
            1.6574246194213629,
            4.434112290851772,
            null,
            3.655031168833375,
            5.455331605859101,
            7.803006804548204,
            3.655031168833375,
            null,
            9.926278525032103,
            9.825916112400591,
            10.504358172416687,
            9.926278525032103,
            null,
            9.926278525032103,
            10.504358172416687,
            10.70221396535635,
            9.926278525032103,
            null,
            7.866376008838415,
            9.926278525032103,
            10.70221396535635,
            7.866376008838415,
            null
           ]
          }
         ],
         "name": "frame7"
        },
        {
         "data": [
          {
           "line": {
            "color": "blue"
           },
           "mode": "lines",
           "name": "Triangles",
           "type": "scatter",
           "x": [
            -2.130536885932088,
            3.3453252939507365,
            4.56964466907084,
            -2.130536885932088,
            null,
            2.990969273261726,
            -1.648869906552136,
            7.07633207179606,
            2.990969273261726,
            null,
            4.56964466907084,
            2.990969273261726,
            7.07633207179606,
            4.56964466907084,
            null,
            4.56964466907084,
            7.07633207179606,
            7.034027734771371,
            4.56964466907084,
            null,
            8.507412764243782,
            13.109639695845544,
            12.64738021697849,
            8.507412764243782,
            null,
            3.5821968968957663,
            14.26908371038735,
            9.838039012625813,
            3.5821968968957663,
            null,
            3.5821968968957663,
            9.838039012625813,
            0.8827832043170929,
            3.5821968968957663,
            null,
            6.054546925249171,
            3.5821968968957663,
            0.8827832043170929,
            6.054546925249171,
            null,
            6.054546925249171,
            0.8827832043170929,
            4.185707269236445,
            6.054546925249171,
            null
           ],
           "y": [
            8.785307914018631,
            5.152417876757681,
            4.434112290851772,
            8.785307914018631,
            null,
            4.358941366896033,
            5.944620854221284,
            1.166239351965487,
            4.358941366896033,
            null,
            4.434112290851772,
            4.358941366896033,
            1.166239351965487,
            4.434112290851772,
            null,
            4.434112290851772,
            1.166239351965487,
            1.6574246194213629,
            4.434112290851772,
            null,
            3.655031168833375,
            5.455331605859101,
            7.803006804548204,
            3.655031168833375,
            null,
            9.926278525032103,
            9.825916112400591,
            10.504358172416687,
            9.926278525032103,
            null,
            9.926278525032103,
            10.504358172416687,
            10.70221396535635,
            9.926278525032103,
            null,
            7.866376008838415,
            9.926278525032103,
            10.70221396535635,
            7.866376008838415,
            null,
            7.866376008838415,
            10.70221396535635,
            7.648181322962046,
            7.866376008838415,
            null
           ]
          }
         ],
         "name": "frame8"
        },
        {
         "data": [
          {
           "line": {
            "color": "blue"
           },
           "mode": "lines",
           "name": "Triangles",
           "type": "scatter",
           "x": [
            -2.130536885932088,
            3.3453252939507365,
            4.56964466907084,
            -2.130536885932088,
            null,
            2.990969273261726,
            -1.648869906552136,
            7.07633207179606,
            2.990969273261726,
            null,
            4.56964466907084,
            2.990969273261726,
            7.07633207179606,
            4.56964466907084,
            null,
            4.56964466907084,
            7.07633207179606,
            7.034027734771371,
            4.56964466907084,
            null,
            8.507412764243782,
            13.109639695845544,
            12.64738021697849,
            8.507412764243782,
            null,
            3.5821968968957663,
            14.26908371038735,
            9.838039012625813,
            3.5821968968957663,
            null,
            3.5821968968957663,
            9.838039012625813,
            0.8827832043170929,
            3.5821968968957663,
            null,
            6.054546925249171,
            3.5821968968957663,
            0.8827832043170929,
            6.054546925249171,
            null,
            6.054546925249171,
            0.8827832043170929,
            4.185707269236445,
            6.054546925249171,
            null,
            12.64738021697849,
            6.054546925249171,
            4.185707269236445,
            12.64738021697849,
            null
           ],
           "y": [
            8.785307914018631,
            5.152417876757681,
            4.434112290851772,
            8.785307914018631,
            null,
            4.358941366896033,
            5.944620854221284,
            1.166239351965487,
            4.358941366896033,
            null,
            4.434112290851772,
            4.358941366896033,
            1.166239351965487,
            4.434112290851772,
            null,
            4.434112290851772,
            1.166239351965487,
            1.6574246194213629,
            4.434112290851772,
            null,
            3.655031168833375,
            5.455331605859101,
            7.803006804548204,
            3.655031168833375,
            null,
            9.926278525032103,
            9.825916112400591,
            10.504358172416687,
            9.926278525032103,
            null,
            9.926278525032103,
            10.504358172416687,
            10.70221396535635,
            9.926278525032103,
            null,
            7.866376008838415,
            9.926278525032103,
            10.70221396535635,
            7.866376008838415,
            null,
            7.866376008838415,
            10.70221396535635,
            7.648181322962046,
            7.866376008838415,
            null,
            7.803006804548204,
            7.866376008838415,
            7.648181322962046,
            7.803006804548204,
            null
           ]
          }
         ],
         "name": "frame9"
        },
        {
         "data": [
          {
           "line": {
            "color": "blue"
           },
           "mode": "lines",
           "name": "Triangles",
           "type": "scatter",
           "x": [
            -2.130536885932088,
            3.3453252939507365,
            4.56964466907084,
            -2.130536885932088,
            null,
            2.990969273261726,
            -1.648869906552136,
            7.07633207179606,
            2.990969273261726,
            null,
            4.56964466907084,
            2.990969273261726,
            7.07633207179606,
            4.56964466907084,
            null,
            4.56964466907084,
            7.07633207179606,
            7.034027734771371,
            4.56964466907084,
            null,
            8.507412764243782,
            13.109639695845544,
            12.64738021697849,
            8.507412764243782,
            null,
            3.5821968968957663,
            14.26908371038735,
            9.838039012625813,
            3.5821968968957663,
            null,
            3.5821968968957663,
            9.838039012625813,
            0.8827832043170929,
            3.5821968968957663,
            null,
            6.054546925249171,
            3.5821968968957663,
            0.8827832043170929,
            6.054546925249171,
            null,
            6.054546925249171,
            0.8827832043170929,
            4.185707269236445,
            6.054546925249171,
            null,
            12.64738021697849,
            6.054546925249171,
            4.185707269236445,
            12.64738021697849,
            null,
            12.64738021697849,
            4.185707269236445,
            10.700615999288857,
            12.64738021697849,
            null
           ],
           "y": [
            8.785307914018631,
            5.152417876757681,
            4.434112290851772,
            8.785307914018631,
            null,
            4.358941366896033,
            5.944620854221284,
            1.166239351965487,
            4.358941366896033,
            null,
            4.434112290851772,
            4.358941366896033,
            1.166239351965487,
            4.434112290851772,
            null,
            4.434112290851772,
            1.166239351965487,
            1.6574246194213629,
            4.434112290851772,
            null,
            3.655031168833375,
            5.455331605859101,
            7.803006804548204,
            3.655031168833375,
            null,
            9.926278525032103,
            9.825916112400591,
            10.504358172416687,
            9.926278525032103,
            null,
            9.926278525032103,
            10.504358172416687,
            10.70221396535635,
            9.926278525032103,
            null,
            7.866376008838415,
            9.926278525032103,
            10.70221396535635,
            7.866376008838415,
            null,
            7.866376008838415,
            10.70221396535635,
            7.648181322962046,
            7.866376008838415,
            null,
            7.803006804548204,
            7.866376008838415,
            7.648181322962046,
            7.803006804548204,
            null,
            7.803006804548204,
            7.648181322962046,
            6.424419324845076,
            7.803006804548204,
            null
           ]
          }
         ],
         "name": "frame10"
        },
        {
         "data": [
          {
           "line": {
            "color": "blue"
           },
           "mode": "lines",
           "name": "Triangles",
           "type": "scatter",
           "x": [
            -2.130536885932088,
            3.3453252939507365,
            4.56964466907084,
            -2.130536885932088,
            null,
            2.990969273261726,
            -1.648869906552136,
            7.07633207179606,
            2.990969273261726,
            null,
            4.56964466907084,
            2.990969273261726,
            7.07633207179606,
            4.56964466907084,
            null,
            4.56964466907084,
            7.07633207179606,
            7.034027734771371,
            4.56964466907084,
            null,
            8.507412764243782,
            13.109639695845544,
            12.64738021697849,
            8.507412764243782,
            null,
            3.5821968968957663,
            14.26908371038735,
            9.838039012625813,
            3.5821968968957663,
            null,
            3.5821968968957663,
            9.838039012625813,
            0.8827832043170929,
            3.5821968968957663,
            null,
            6.054546925249171,
            3.5821968968957663,
            0.8827832043170929,
            6.054546925249171,
            null,
            6.054546925249171,
            0.8827832043170929,
            4.185707269236445,
            6.054546925249171,
            null,
            12.64738021697849,
            6.054546925249171,
            4.185707269236445,
            12.64738021697849,
            null,
            12.64738021697849,
            4.185707269236445,
            10.700615999288857,
            12.64738021697849,
            null,
            8.507412764243782,
            12.64738021697849,
            10.700615999288857,
            8.507412764243782,
            null
           ],
           "y": [
            8.785307914018631,
            5.152417876757681,
            4.434112290851772,
            8.785307914018631,
            null,
            4.358941366896033,
            5.944620854221284,
            1.166239351965487,
            4.358941366896033,
            null,
            4.434112290851772,
            4.358941366896033,
            1.166239351965487,
            4.434112290851772,
            null,
            4.434112290851772,
            1.166239351965487,
            1.6574246194213629,
            4.434112290851772,
            null,
            3.655031168833375,
            5.455331605859101,
            7.803006804548204,
            3.655031168833375,
            null,
            9.926278525032103,
            9.825916112400591,
            10.504358172416687,
            9.926278525032103,
            null,
            9.926278525032103,
            10.504358172416687,
            10.70221396535635,
            9.926278525032103,
            null,
            7.866376008838415,
            9.926278525032103,
            10.70221396535635,
            7.866376008838415,
            null,
            7.866376008838415,
            10.70221396535635,
            7.648181322962046,
            7.866376008838415,
            null,
            7.803006804548204,
            7.866376008838415,
            7.648181322962046,
            7.803006804548204,
            null,
            7.803006804548204,
            7.648181322962046,
            6.424419324845076,
            7.803006804548204,
            null,
            3.655031168833375,
            7.803006804548204,
            6.424419324845076,
            3.655031168833375,
            null
           ]
          }
         ],
         "name": "frame11"
        },
        {
         "data": [
          {
           "line": {
            "color": "blue"
           },
           "mode": "lines",
           "name": "Triangles",
           "type": "scatter",
           "x": [
            -2.130536885932088,
            3.3453252939507365,
            4.56964466907084,
            -2.130536885932088,
            null,
            2.990969273261726,
            -1.648869906552136,
            7.07633207179606,
            2.990969273261726,
            null,
            4.56964466907084,
            2.990969273261726,
            7.07633207179606,
            4.56964466907084,
            null,
            4.56964466907084,
            7.07633207179606,
            7.034027734771371,
            4.56964466907084,
            null,
            8.507412764243782,
            13.109639695845544,
            12.64738021697849,
            8.507412764243782,
            null,
            3.5821968968957663,
            14.26908371038735,
            9.838039012625813,
            3.5821968968957663,
            null,
            3.5821968968957663,
            9.838039012625813,
            0.8827832043170929,
            3.5821968968957663,
            null,
            6.054546925249171,
            3.5821968968957663,
            0.8827832043170929,
            6.054546925249171,
            null,
            6.054546925249171,
            0.8827832043170929,
            4.185707269236445,
            6.054546925249171,
            null,
            12.64738021697849,
            6.054546925249171,
            4.185707269236445,
            12.64738021697849,
            null,
            12.64738021697849,
            4.185707269236445,
            10.700615999288857,
            12.64738021697849,
            null,
            8.507412764243782,
            12.64738021697849,
            10.700615999288857,
            8.507412764243782,
            null,
            8.507412764243782,
            10.700615999288857,
            6.757501590996981,
            8.507412764243782,
            null
           ],
           "y": [
            8.785307914018631,
            5.152417876757681,
            4.434112290851772,
            8.785307914018631,
            null,
            4.358941366896033,
            5.944620854221284,
            1.166239351965487,
            4.358941366896033,
            null,
            4.434112290851772,
            4.358941366896033,
            1.166239351965487,
            4.434112290851772,
            null,
            4.434112290851772,
            1.166239351965487,
            1.6574246194213629,
            4.434112290851772,
            null,
            3.655031168833375,
            5.455331605859101,
            7.803006804548204,
            3.655031168833375,
            null,
            9.926278525032103,
            9.825916112400591,
            10.504358172416687,
            9.926278525032103,
            null,
            9.926278525032103,
            10.504358172416687,
            10.70221396535635,
            9.926278525032103,
            null,
            7.866376008838415,
            9.926278525032103,
            10.70221396535635,
            7.866376008838415,
            null,
            7.866376008838415,
            10.70221396535635,
            7.648181322962046,
            7.866376008838415,
            null,
            7.803006804548204,
            7.866376008838415,
            7.648181322962046,
            7.803006804548204,
            null,
            7.803006804548204,
            7.648181322962046,
            6.424419324845076,
            7.803006804548204,
            null,
            3.655031168833375,
            7.803006804548204,
            6.424419324845076,
            3.655031168833375,
            null,
            3.655031168833375,
            6.424419324845076,
            3.4017199594527483,
            3.655031168833375,
            null
           ]
          }
         ],
         "name": "frame12"
        },
        {
         "data": [
          {
           "line": {
            "color": "blue"
           },
           "mode": "lines",
           "name": "Triangles",
           "type": "scatter",
           "x": [
            -2.130536885932088,
            3.3453252939507365,
            4.56964466907084,
            -2.130536885932088,
            null,
            2.990969273261726,
            -1.648869906552136,
            7.07633207179606,
            2.990969273261726,
            null,
            4.56964466907084,
            2.990969273261726,
            7.07633207179606,
            4.56964466907084,
            null,
            4.56964466907084,
            7.07633207179606,
            7.034027734771371,
            4.56964466907084,
            null,
            8.507412764243782,
            13.109639695845544,
            12.64738021697849,
            8.507412764243782,
            null,
            3.5821968968957663,
            14.26908371038735,
            9.838039012625813,
            3.5821968968957663,
            null,
            3.5821968968957663,
            9.838039012625813,
            0.8827832043170929,
            3.5821968968957663,
            null,
            6.054546925249171,
            3.5821968968957663,
            0.8827832043170929,
            6.054546925249171,
            null,
            6.054546925249171,
            0.8827832043170929,
            4.185707269236445,
            6.054546925249171,
            null,
            12.64738021697849,
            6.054546925249171,
            4.185707269236445,
            12.64738021697849,
            null,
            12.64738021697849,
            4.185707269236445,
            10.700615999288857,
            12.64738021697849,
            null,
            8.507412764243782,
            12.64738021697849,
            10.700615999288857,
            8.507412764243782,
            null,
            8.507412764243782,
            10.700615999288857,
            6.757501590996981,
            8.507412764243782,
            null,
            7.034027734771371,
            8.507412764243782,
            6.757501590996981,
            7.034027734771371,
            null
           ],
           "y": [
            8.785307914018631,
            5.152417876757681,
            4.434112290851772,
            8.785307914018631,
            null,
            4.358941366896033,
            5.944620854221284,
            1.166239351965487,
            4.358941366896033,
            null,
            4.434112290851772,
            4.358941366896033,
            1.166239351965487,
            4.434112290851772,
            null,
            4.434112290851772,
            1.166239351965487,
            1.6574246194213629,
            4.434112290851772,
            null,
            3.655031168833375,
            5.455331605859101,
            7.803006804548204,
            3.655031168833375,
            null,
            9.926278525032103,
            9.825916112400591,
            10.504358172416687,
            9.926278525032103,
            null,
            9.926278525032103,
            10.504358172416687,
            10.70221396535635,
            9.926278525032103,
            null,
            7.866376008838415,
            9.926278525032103,
            10.70221396535635,
            7.866376008838415,
            null,
            7.866376008838415,
            10.70221396535635,
            7.648181322962046,
            7.866376008838415,
            null,
            7.803006804548204,
            7.866376008838415,
            7.648181322962046,
            7.803006804548204,
            null,
            7.803006804548204,
            7.648181322962046,
            6.424419324845076,
            7.803006804548204,
            null,
            3.655031168833375,
            7.803006804548204,
            6.424419324845076,
            3.655031168833375,
            null,
            3.655031168833375,
            6.424419324845076,
            3.4017199594527483,
            3.655031168833375,
            null,
            1.6574246194213629,
            3.655031168833375,
            3.4017199594527483,
            1.6574246194213629,
            null
           ]
          }
         ],
         "name": "frame13"
        },
        {
         "data": [
          {
           "line": {
            "color": "blue"
           },
           "mode": "lines",
           "name": "Triangles",
           "type": "scatter",
           "x": [
            -2.130536885932088,
            3.3453252939507365,
            4.56964466907084,
            -2.130536885932088,
            null,
            2.990969273261726,
            -1.648869906552136,
            7.07633207179606,
            2.990969273261726,
            null,
            4.56964466907084,
            2.990969273261726,
            7.07633207179606,
            4.56964466907084,
            null,
            4.56964466907084,
            7.07633207179606,
            7.034027734771371,
            4.56964466907084,
            null,
            8.507412764243782,
            13.109639695845544,
            12.64738021697849,
            8.507412764243782,
            null,
            3.5821968968957663,
            14.26908371038735,
            9.838039012625813,
            3.5821968968957663,
            null,
            3.5821968968957663,
            9.838039012625813,
            0.8827832043170929,
            3.5821968968957663,
            null,
            6.054546925249171,
            3.5821968968957663,
            0.8827832043170929,
            6.054546925249171,
            null,
            6.054546925249171,
            0.8827832043170929,
            4.185707269236445,
            6.054546925249171,
            null,
            12.64738021697849,
            6.054546925249171,
            4.185707269236445,
            12.64738021697849,
            null,
            12.64738021697849,
            4.185707269236445,
            10.700615999288857,
            12.64738021697849,
            null,
            8.507412764243782,
            12.64738021697849,
            10.700615999288857,
            8.507412764243782,
            null,
            8.507412764243782,
            10.700615999288857,
            6.757501590996981,
            8.507412764243782,
            null,
            7.034027734771371,
            8.507412764243782,
            6.757501590996981,
            7.034027734771371,
            null,
            4.56964466907084,
            7.034027734771371,
            6.757501590996981,
            4.56964466907084,
            null
           ],
           "y": [
            8.785307914018631,
            5.152417876757681,
            4.434112290851772,
            8.785307914018631,
            null,
            4.358941366896033,
            5.944620854221284,
            1.166239351965487,
            4.358941366896033,
            null,
            4.434112290851772,
            4.358941366896033,
            1.166239351965487,
            4.434112290851772,
            null,
            4.434112290851772,
            1.166239351965487,
            1.6574246194213629,
            4.434112290851772,
            null,
            3.655031168833375,
            5.455331605859101,
            7.803006804548204,
            3.655031168833375,
            null,
            9.926278525032103,
            9.825916112400591,
            10.504358172416687,
            9.926278525032103,
            null,
            9.926278525032103,
            10.504358172416687,
            10.70221396535635,
            9.926278525032103,
            null,
            7.866376008838415,
            9.926278525032103,
            10.70221396535635,
            7.866376008838415,
            null,
            7.866376008838415,
            10.70221396535635,
            7.648181322962046,
            7.866376008838415,
            null,
            7.803006804548204,
            7.866376008838415,
            7.648181322962046,
            7.803006804548204,
            null,
            7.803006804548204,
            7.648181322962046,
            6.424419324845076,
            7.803006804548204,
            null,
            3.655031168833375,
            7.803006804548204,
            6.424419324845076,
            3.655031168833375,
            null,
            3.655031168833375,
            6.424419324845076,
            3.4017199594527483,
            3.655031168833375,
            null,
            1.6574246194213629,
            3.655031168833375,
            3.4017199594527483,
            1.6574246194213629,
            null,
            4.434112290851772,
            1.6574246194213629,
            3.4017199594527483,
            4.434112290851772,
            null
           ]
          }
         ],
         "name": "frame14"
        },
        {
         "data": [
          {
           "line": {
            "color": "blue"
           },
           "mode": "lines",
           "name": "Triangles",
           "type": "scatter",
           "x": [
            -2.130536885932088,
            3.3453252939507365,
            4.56964466907084,
            -2.130536885932088,
            null,
            2.990969273261726,
            -1.648869906552136,
            7.07633207179606,
            2.990969273261726,
            null,
            4.56964466907084,
            2.990969273261726,
            7.07633207179606,
            4.56964466907084,
            null,
            4.56964466907084,
            7.07633207179606,
            7.034027734771371,
            4.56964466907084,
            null,
            8.507412764243782,
            13.109639695845544,
            12.64738021697849,
            8.507412764243782,
            null,
            3.5821968968957663,
            14.26908371038735,
            9.838039012625813,
            3.5821968968957663,
            null,
            3.5821968968957663,
            9.838039012625813,
            0.8827832043170929,
            3.5821968968957663,
            null,
            6.054546925249171,
            3.5821968968957663,
            0.8827832043170929,
            6.054546925249171,
            null,
            6.054546925249171,
            0.8827832043170929,
            4.185707269236445,
            6.054546925249171,
            null,
            12.64738021697849,
            6.054546925249171,
            4.185707269236445,
            12.64738021697849,
            null,
            12.64738021697849,
            4.185707269236445,
            10.700615999288857,
            12.64738021697849,
            null,
            8.507412764243782,
            12.64738021697849,
            10.700615999288857,
            8.507412764243782,
            null,
            8.507412764243782,
            10.700615999288857,
            6.757501590996981,
            8.507412764243782,
            null,
            7.034027734771371,
            8.507412764243782,
            6.757501590996981,
            7.034027734771371,
            null,
            4.56964466907084,
            7.034027734771371,
            6.757501590996981,
            4.56964466907084,
            null,
            -2.130536885932088,
            4.56964466907084,
            6.757501590996981,
            -2.130536885932088,
            null
           ],
           "y": [
            8.785307914018631,
            5.152417876757681,
            4.434112290851772,
            8.785307914018631,
            null,
            4.358941366896033,
            5.944620854221284,
            1.166239351965487,
            4.358941366896033,
            null,
            4.434112290851772,
            4.358941366896033,
            1.166239351965487,
            4.434112290851772,
            null,
            4.434112290851772,
            1.166239351965487,
            1.6574246194213629,
            4.434112290851772,
            null,
            3.655031168833375,
            5.455331605859101,
            7.803006804548204,
            3.655031168833375,
            null,
            9.926278525032103,
            9.825916112400591,
            10.504358172416687,
            9.926278525032103,
            null,
            9.926278525032103,
            10.504358172416687,
            10.70221396535635,
            9.926278525032103,
            null,
            7.866376008838415,
            9.926278525032103,
            10.70221396535635,
            7.866376008838415,
            null,
            7.866376008838415,
            10.70221396535635,
            7.648181322962046,
            7.866376008838415,
            null,
            7.803006804548204,
            7.866376008838415,
            7.648181322962046,
            7.803006804548204,
            null,
            7.803006804548204,
            7.648181322962046,
            6.424419324845076,
            7.803006804548204,
            null,
            3.655031168833375,
            7.803006804548204,
            6.424419324845076,
            3.655031168833375,
            null,
            3.655031168833375,
            6.424419324845076,
            3.4017199594527483,
            3.655031168833375,
            null,
            1.6574246194213629,
            3.655031168833375,
            3.4017199594527483,
            1.6574246194213629,
            null,
            4.434112290851772,
            1.6574246194213629,
            3.4017199594527483,
            4.434112290851772,
            null,
            8.785307914018631,
            4.434112290851772,
            3.4017199594527483,
            8.785307914018631,
            null
           ]
          }
         ],
         "name": "frame15"
        },
        {
         "data": [
          {
           "line": {
            "color": "blue"
           },
           "mode": "lines",
           "name": "Triangles",
           "type": "scatter",
           "x": [
            -2.130536885932088,
            3.3453252939507365,
            4.56964466907084,
            -2.130536885932088,
            null,
            2.990969273261726,
            -1.648869906552136,
            7.07633207179606,
            2.990969273261726,
            null,
            4.56964466907084,
            2.990969273261726,
            7.07633207179606,
            4.56964466907084,
            null,
            4.56964466907084,
            7.07633207179606,
            7.034027734771371,
            4.56964466907084,
            null,
            8.507412764243782,
            13.109639695845544,
            12.64738021697849,
            8.507412764243782,
            null,
            3.5821968968957663,
            14.26908371038735,
            9.838039012625813,
            3.5821968968957663,
            null,
            3.5821968968957663,
            9.838039012625813,
            0.8827832043170929,
            3.5821968968957663,
            null,
            6.054546925249171,
            3.5821968968957663,
            0.8827832043170929,
            6.054546925249171,
            null,
            6.054546925249171,
            0.8827832043170929,
            4.185707269236445,
            6.054546925249171,
            null,
            12.64738021697849,
            6.054546925249171,
            4.185707269236445,
            12.64738021697849,
            null,
            12.64738021697849,
            4.185707269236445,
            10.700615999288857,
            12.64738021697849,
            null,
            8.507412764243782,
            12.64738021697849,
            10.700615999288857,
            8.507412764243782,
            null,
            8.507412764243782,
            10.700615999288857,
            6.757501590996981,
            8.507412764243782,
            null,
            7.034027734771371,
            8.507412764243782,
            6.757501590996981,
            7.034027734771371,
            null,
            4.56964466907084,
            7.034027734771371,
            6.757501590996981,
            4.56964466907084,
            null,
            -2.130536885932088,
            4.56964466907084,
            6.757501590996981,
            -2.130536885932088,
            null,
            -2.130536885932088,
            6.757501590996981,
            3.6048890640959144,
            -2.130536885932088,
            null
           ],
           "y": [
            8.785307914018631,
            5.152417876757681,
            4.434112290851772,
            8.785307914018631,
            null,
            4.358941366896033,
            5.944620854221284,
            1.166239351965487,
            4.358941366896033,
            null,
            4.434112290851772,
            4.358941366896033,
            1.166239351965487,
            4.434112290851772,
            null,
            4.434112290851772,
            1.166239351965487,
            1.6574246194213629,
            4.434112290851772,
            null,
            3.655031168833375,
            5.455331605859101,
            7.803006804548204,
            3.655031168833375,
            null,
            9.926278525032103,
            9.825916112400591,
            10.504358172416687,
            9.926278525032103,
            null,
            9.926278525032103,
            10.504358172416687,
            10.70221396535635,
            9.926278525032103,
            null,
            7.866376008838415,
            9.926278525032103,
            10.70221396535635,
            7.866376008838415,
            null,
            7.866376008838415,
            10.70221396535635,
            7.648181322962046,
            7.866376008838415,
            null,
            7.803006804548204,
            7.866376008838415,
            7.648181322962046,
            7.803006804548204,
            null,
            7.803006804548204,
            7.648181322962046,
            6.424419324845076,
            7.803006804548204,
            null,
            3.655031168833375,
            7.803006804548204,
            6.424419324845076,
            3.655031168833375,
            null,
            3.655031168833375,
            6.424419324845076,
            3.4017199594527483,
            3.655031168833375,
            null,
            1.6574246194213629,
            3.655031168833375,
            3.4017199594527483,
            1.6574246194213629,
            null,
            4.434112290851772,
            1.6574246194213629,
            3.4017199594527483,
            4.434112290851772,
            null,
            8.785307914018631,
            4.434112290851772,
            3.4017199594527483,
            8.785307914018631,
            null,
            8.785307914018631,
            3.4017199594527483,
            6.543008344247937,
            8.785307914018631,
            null
           ]
          }
         ],
         "name": "frame16"
        },
        {
         "data": [
          {
           "line": {
            "color": "blue"
           },
           "mode": "lines",
           "name": "Triangles",
           "type": "scatter",
           "x": [
            -2.130536885932088,
            3.3453252939507365,
            4.56964466907084,
            -2.130536885932088,
            null,
            2.990969273261726,
            -1.648869906552136,
            7.07633207179606,
            2.990969273261726,
            null,
            4.56964466907084,
            2.990969273261726,
            7.07633207179606,
            4.56964466907084,
            null,
            4.56964466907084,
            7.07633207179606,
            7.034027734771371,
            4.56964466907084,
            null,
            8.507412764243782,
            13.109639695845544,
            12.64738021697849,
            8.507412764243782,
            null,
            3.5821968968957663,
            14.26908371038735,
            9.838039012625813,
            3.5821968968957663,
            null,
            3.5821968968957663,
            9.838039012625813,
            0.8827832043170929,
            3.5821968968957663,
            null,
            6.054546925249171,
            3.5821968968957663,
            0.8827832043170929,
            6.054546925249171,
            null,
            6.054546925249171,
            0.8827832043170929,
            4.185707269236445,
            6.054546925249171,
            null,
            12.64738021697849,
            6.054546925249171,
            4.185707269236445,
            12.64738021697849,
            null,
            12.64738021697849,
            4.185707269236445,
            10.700615999288857,
            12.64738021697849,
            null,
            8.507412764243782,
            12.64738021697849,
            10.700615999288857,
            8.507412764243782,
            null,
            8.507412764243782,
            10.700615999288857,
            6.757501590996981,
            8.507412764243782,
            null,
            7.034027734771371,
            8.507412764243782,
            6.757501590996981,
            7.034027734771371,
            null,
            4.56964466907084,
            7.034027734771371,
            6.757501590996981,
            4.56964466907084,
            null,
            -2.130536885932088,
            4.56964466907084,
            6.757501590996981,
            -2.130536885932088,
            null,
            -2.130536885932088,
            6.757501590996981,
            3.6048890640959144,
            -2.130536885932088,
            null,
            3.6048890640959144,
            2.9554162742570043,
            -2.130536885932088,
            3.6048890640959144,
            null
           ],
           "y": [
            8.785307914018631,
            5.152417876757681,
            4.434112290851772,
            8.785307914018631,
            null,
            4.358941366896033,
            5.944620854221284,
            1.166239351965487,
            4.358941366896033,
            null,
            4.434112290851772,
            4.358941366896033,
            1.166239351965487,
            4.434112290851772,
            null,
            4.434112290851772,
            1.166239351965487,
            1.6574246194213629,
            4.434112290851772,
            null,
            3.655031168833375,
            5.455331605859101,
            7.803006804548204,
            3.655031168833375,
            null,
            9.926278525032103,
            9.825916112400591,
            10.504358172416687,
            9.926278525032103,
            null,
            9.926278525032103,
            10.504358172416687,
            10.70221396535635,
            9.926278525032103,
            null,
            7.866376008838415,
            9.926278525032103,
            10.70221396535635,
            7.866376008838415,
            null,
            7.866376008838415,
            10.70221396535635,
            7.648181322962046,
            7.866376008838415,
            null,
            7.803006804548204,
            7.866376008838415,
            7.648181322962046,
            7.803006804548204,
            null,
            7.803006804548204,
            7.648181322962046,
            6.424419324845076,
            7.803006804548204,
            null,
            3.655031168833375,
            7.803006804548204,
            6.424419324845076,
            3.655031168833375,
            null,
            3.655031168833375,
            6.424419324845076,
            3.4017199594527483,
            3.655031168833375,
            null,
            1.6574246194213629,
            3.655031168833375,
            3.4017199594527483,
            1.6574246194213629,
            null,
            4.434112290851772,
            1.6574246194213629,
            3.4017199594527483,
            4.434112290851772,
            null,
            8.785307914018631,
            4.434112290851772,
            3.4017199594527483,
            8.785307914018631,
            null,
            8.785307914018631,
            3.4017199594527483,
            6.543008344247937,
            8.785307914018631,
            null,
            6.543008344247937,
            6.858058384619653,
            8.785307914018631,
            6.543008344247937,
            null
           ]
          }
         ],
         "name": "frame17"
        }
       ],
       "layout": {
        "hovermode": "closest",
        "showlegend": true,
        "template": {
         "data": {
          "bar": [
           {
            "error_x": {
             "color": "#2a3f5f"
            },
            "error_y": {
             "color": "#2a3f5f"
            },
            "marker": {
             "line": {
              "color": "white",
              "width": 0.5
             },
             "pattern": {
              "fillmode": "overlay",
              "size": 10,
              "solidity": 0.2
             }
            },
            "type": "bar"
           }
          ],
          "barpolar": [
           {
            "marker": {
             "line": {
              "color": "white",
              "width": 0.5
             },
             "pattern": {
              "fillmode": "overlay",
              "size": 10,
              "solidity": 0.2
             }
            },
            "type": "barpolar"
           }
          ],
          "carpet": [
           {
            "aaxis": {
             "endlinecolor": "#2a3f5f",
             "gridcolor": "#C8D4E3",
             "linecolor": "#C8D4E3",
             "minorgridcolor": "#C8D4E3",
             "startlinecolor": "#2a3f5f"
            },
            "baxis": {
             "endlinecolor": "#2a3f5f",
             "gridcolor": "#C8D4E3",
             "linecolor": "#C8D4E3",
             "minorgridcolor": "#C8D4E3",
             "startlinecolor": "#2a3f5f"
            },
            "type": "carpet"
           }
          ],
          "choropleth": [
           {
            "colorbar": {
             "outlinewidth": 0,
             "ticks": ""
            },
            "type": "choropleth"
           }
          ],
          "contour": [
           {
            "colorbar": {
             "outlinewidth": 0,
             "ticks": ""
            },
            "colorscale": [
             [
              0,
              "#0d0887"
             ],
             [
              0.1111111111111111,
              "#46039f"
             ],
             [
              0.2222222222222222,
              "#7201a8"
             ],
             [
              0.3333333333333333,
              "#9c179e"
             ],
             [
              0.4444444444444444,
              "#bd3786"
             ],
             [
              0.5555555555555556,
              "#d8576b"
             ],
             [
              0.6666666666666666,
              "#ed7953"
             ],
             [
              0.7777777777777778,
              "#fb9f3a"
             ],
             [
              0.8888888888888888,
              "#fdca26"
             ],
             [
              1,
              "#f0f921"
             ]
            ],
            "type": "contour"
           }
          ],
          "contourcarpet": [
           {
            "colorbar": {
             "outlinewidth": 0,
             "ticks": ""
            },
            "type": "contourcarpet"
           }
          ],
          "heatmap": [
           {
            "colorbar": {
             "outlinewidth": 0,
             "ticks": ""
            },
            "colorscale": [
             [
              0,
              "#0d0887"
             ],
             [
              0.1111111111111111,
              "#46039f"
             ],
             [
              0.2222222222222222,
              "#7201a8"
             ],
             [
              0.3333333333333333,
              "#9c179e"
             ],
             [
              0.4444444444444444,
              "#bd3786"
             ],
             [
              0.5555555555555556,
              "#d8576b"
             ],
             [
              0.6666666666666666,
              "#ed7953"
             ],
             [
              0.7777777777777778,
              "#fb9f3a"
             ],
             [
              0.8888888888888888,
              "#fdca26"
             ],
             [
              1,
              "#f0f921"
             ]
            ],
            "type": "heatmap"
           }
          ],
          "heatmapgl": [
           {
            "colorbar": {
             "outlinewidth": 0,
             "ticks": ""
            },
            "colorscale": [
             [
              0,
              "#0d0887"
             ],
             [
              0.1111111111111111,
              "#46039f"
             ],
             [
              0.2222222222222222,
              "#7201a8"
             ],
             [
              0.3333333333333333,
              "#9c179e"
             ],
             [
              0.4444444444444444,
              "#bd3786"
             ],
             [
              0.5555555555555556,
              "#d8576b"
             ],
             [
              0.6666666666666666,
              "#ed7953"
             ],
             [
              0.7777777777777778,
              "#fb9f3a"
             ],
             [
              0.8888888888888888,
              "#fdca26"
             ],
             [
              1,
              "#f0f921"
             ]
            ],
            "type": "heatmapgl"
           }
          ],
          "histogram": [
           {
            "marker": {
             "pattern": {
              "fillmode": "overlay",
              "size": 10,
              "solidity": 0.2
             }
            },
            "type": "histogram"
           }
          ],
          "histogram2d": [
           {
            "colorbar": {
             "outlinewidth": 0,
             "ticks": ""
            },
            "colorscale": [
             [
              0,
              "#0d0887"
             ],
             [
              0.1111111111111111,
              "#46039f"
             ],
             [
              0.2222222222222222,
              "#7201a8"
             ],
             [
              0.3333333333333333,
              "#9c179e"
             ],
             [
              0.4444444444444444,
              "#bd3786"
             ],
             [
              0.5555555555555556,
              "#d8576b"
             ],
             [
              0.6666666666666666,
              "#ed7953"
             ],
             [
              0.7777777777777778,
              "#fb9f3a"
             ],
             [
              0.8888888888888888,
              "#fdca26"
             ],
             [
              1,
              "#f0f921"
             ]
            ],
            "type": "histogram2d"
           }
          ],
          "histogram2dcontour": [
           {
            "colorbar": {
             "outlinewidth": 0,
             "ticks": ""
            },
            "colorscale": [
             [
              0,
              "#0d0887"
             ],
             [
              0.1111111111111111,
              "#46039f"
             ],
             [
              0.2222222222222222,
              "#7201a8"
             ],
             [
              0.3333333333333333,
              "#9c179e"
             ],
             [
              0.4444444444444444,
              "#bd3786"
             ],
             [
              0.5555555555555556,
              "#d8576b"
             ],
             [
              0.6666666666666666,
              "#ed7953"
             ],
             [
              0.7777777777777778,
              "#fb9f3a"
             ],
             [
              0.8888888888888888,
              "#fdca26"
             ],
             [
              1,
              "#f0f921"
             ]
            ],
            "type": "histogram2dcontour"
           }
          ],
          "mesh3d": [
           {
            "colorbar": {
             "outlinewidth": 0,
             "ticks": ""
            },
            "type": "mesh3d"
           }
          ],
          "parcoords": [
           {
            "line": {
             "colorbar": {
              "outlinewidth": 0,
              "ticks": ""
             }
            },
            "type": "parcoords"
           }
          ],
          "pie": [
           {
            "automargin": true,
            "type": "pie"
           }
          ],
          "scatter": [
           {
            "fillpattern": {
             "fillmode": "overlay",
             "size": 10,
             "solidity": 0.2
            },
            "type": "scatter"
           }
          ],
          "scatter3d": [
           {
            "line": {
             "colorbar": {
              "outlinewidth": 0,
              "ticks": ""
             }
            },
            "marker": {
             "colorbar": {
              "outlinewidth": 0,
              "ticks": ""
             }
            },
            "type": "scatter3d"
           }
          ],
          "scattercarpet": [
           {
            "marker": {
             "colorbar": {
              "outlinewidth": 0,
              "ticks": ""
             }
            },
            "type": "scattercarpet"
           }
          ],
          "scattergeo": [
           {
            "marker": {
             "colorbar": {
              "outlinewidth": 0,
              "ticks": ""
             }
            },
            "type": "scattergeo"
           }
          ],
          "scattergl": [
           {
            "marker": {
             "colorbar": {
              "outlinewidth": 0,
              "ticks": ""
             }
            },
            "type": "scattergl"
           }
          ],
          "scattermapbox": [
           {
            "marker": {
             "colorbar": {
              "outlinewidth": 0,
              "ticks": ""
             }
            },
            "type": "scattermapbox"
           }
          ],
          "scatterpolar": [
           {
            "marker": {
             "colorbar": {
              "outlinewidth": 0,
              "ticks": ""
             }
            },
            "type": "scatterpolar"
           }
          ],
          "scatterpolargl": [
           {
            "marker": {
             "colorbar": {
              "outlinewidth": 0,
              "ticks": ""
             }
            },
            "type": "scatterpolargl"
           }
          ],
          "scatterternary": [
           {
            "marker": {
             "colorbar": {
              "outlinewidth": 0,
              "ticks": ""
             }
            },
            "type": "scatterternary"
           }
          ],
          "surface": [
           {
            "colorbar": {
             "outlinewidth": 0,
             "ticks": ""
            },
            "colorscale": [
             [
              0,
              "#0d0887"
             ],
             [
              0.1111111111111111,
              "#46039f"
             ],
             [
              0.2222222222222222,
              "#7201a8"
             ],
             [
              0.3333333333333333,
              "#9c179e"
             ],
             [
              0.4444444444444444,
              "#bd3786"
             ],
             [
              0.5555555555555556,
              "#d8576b"
             ],
             [
              0.6666666666666666,
              "#ed7953"
             ],
             [
              0.7777777777777778,
              "#fb9f3a"
             ],
             [
              0.8888888888888888,
              "#fdca26"
             ],
             [
              1,
              "#f0f921"
             ]
            ],
            "type": "surface"
           }
          ],
          "table": [
           {
            "cells": {
             "fill": {
              "color": "#EBF0F8"
             },
             "line": {
              "color": "white"
             }
            },
            "header": {
             "fill": {
              "color": "#C8D4E3"
             },
             "line": {
              "color": "white"
             }
            },
            "type": "table"
           }
          ]
         },
         "layout": {
          "annotationdefaults": {
           "arrowcolor": "#2a3f5f",
           "arrowhead": 0,
           "arrowwidth": 1
          },
          "autotypenumbers": "strict",
          "coloraxis": {
           "colorbar": {
            "outlinewidth": 0,
            "ticks": ""
           }
          },
          "colorscale": {
           "diverging": [
            [
             0,
             "#8e0152"
            ],
            [
             0.1,
             "#c51b7d"
            ],
            [
             0.2,
             "#de77ae"
            ],
            [
             0.3,
             "#f1b6da"
            ],
            [
             0.4,
             "#fde0ef"
            ],
            [
             0.5,
             "#f7f7f7"
            ],
            [
             0.6,
             "#e6f5d0"
            ],
            [
             0.7,
             "#b8e186"
            ],
            [
             0.8,
             "#7fbc41"
            ],
            [
             0.9,
             "#4d9221"
            ],
            [
             1,
             "#276419"
            ]
           ],
           "sequential": [
            [
             0,
             "#0d0887"
            ],
            [
             0.1111111111111111,
             "#46039f"
            ],
            [
             0.2222222222222222,
             "#7201a8"
            ],
            [
             0.3333333333333333,
             "#9c179e"
            ],
            [
             0.4444444444444444,
             "#bd3786"
            ],
            [
             0.5555555555555556,
             "#d8576b"
            ],
            [
             0.6666666666666666,
             "#ed7953"
            ],
            [
             0.7777777777777778,
             "#fb9f3a"
            ],
            [
             0.8888888888888888,
             "#fdca26"
            ],
            [
             1,
             "#f0f921"
            ]
           ],
           "sequentialminus": [
            [
             0,
             "#0d0887"
            ],
            [
             0.1111111111111111,
             "#46039f"
            ],
            [
             0.2222222222222222,
             "#7201a8"
            ],
            [
             0.3333333333333333,
             "#9c179e"
            ],
            [
             0.4444444444444444,
             "#bd3786"
            ],
            [
             0.5555555555555556,
             "#d8576b"
            ],
            [
             0.6666666666666666,
             "#ed7953"
            ],
            [
             0.7777777777777778,
             "#fb9f3a"
            ],
            [
             0.8888888888888888,
             "#fdca26"
            ],
            [
             1,
             "#f0f921"
            ]
           ]
          },
          "colorway": [
           "#636efa",
           "#EF553B",
           "#00cc96",
           "#ab63fa",
           "#FFA15A",
           "#19d3f3",
           "#FF6692",
           "#B6E880",
           "#FF97FF",
           "#FECB52"
          ],
          "font": {
           "color": "#2a3f5f"
          },
          "geo": {
           "bgcolor": "white",
           "lakecolor": "white",
           "landcolor": "white",
           "showlakes": true,
           "showland": true,
           "subunitcolor": "#C8D4E3"
          },
          "hoverlabel": {
           "align": "left"
          },
          "hovermode": "closest",
          "mapbox": {
           "style": "light"
          },
          "paper_bgcolor": "white",
          "plot_bgcolor": "white",
          "polar": {
           "angularaxis": {
            "gridcolor": "#EBF0F8",
            "linecolor": "#EBF0F8",
            "ticks": ""
           },
           "bgcolor": "white",
           "radialaxis": {
            "gridcolor": "#EBF0F8",
            "linecolor": "#EBF0F8",
            "ticks": ""
           }
          },
          "scene": {
           "xaxis": {
            "backgroundcolor": "white",
            "gridcolor": "#DFE8F3",
            "gridwidth": 2,
            "linecolor": "#EBF0F8",
            "showbackground": true,
            "ticks": "",
            "zerolinecolor": "#EBF0F8"
           },
           "yaxis": {
            "backgroundcolor": "white",
            "gridcolor": "#DFE8F3",
            "gridwidth": 2,
            "linecolor": "#EBF0F8",
            "showbackground": true,
            "ticks": "",
            "zerolinecolor": "#EBF0F8"
           },
           "zaxis": {
            "backgroundcolor": "white",
            "gridcolor": "#DFE8F3",
            "gridwidth": 2,
            "linecolor": "#EBF0F8",
            "showbackground": true,
            "ticks": "",
            "zerolinecolor": "#EBF0F8"
           }
          },
          "shapedefaults": {
           "line": {
            "color": "#2a3f5f"
           }
          },
          "ternary": {
           "aaxis": {
            "gridcolor": "#DFE8F3",
            "linecolor": "#A2B1C6",
            "ticks": ""
           },
           "baxis": {
            "gridcolor": "#DFE8F3",
            "linecolor": "#A2B1C6",
            "ticks": ""
           },
           "bgcolor": "white",
           "caxis": {
            "gridcolor": "#DFE8F3",
            "linecolor": "#A2B1C6",
            "ticks": ""
           }
          },
          "title": {
           "x": 0.05
          },
          "xaxis": {
           "automargin": true,
           "gridcolor": "#EBF0F8",
           "linecolor": "#EBF0F8",
           "ticks": "",
           "title": {
            "standoff": 15
           },
           "zerolinecolor": "#EBF0F8",
           "zerolinewidth": 2
          },
          "yaxis": {
           "automargin": true,
           "gridcolor": "#EBF0F8",
           "linecolor": "#EBF0F8",
           "ticks": "",
           "title": {
            "standoff": 15
           },
           "zerolinecolor": "#EBF0F8",
           "zerolinewidth": 2
          }
         }
        },
        "updatemenus": [
         {
          "buttons": [
           {
            "args": [
             null,
             {
              "frame": {
               "duration": 500,
               "redraw": true
              },
              "fromcurrent": true,
              "transition": {
               "duration": 300,
               "easing": "quadratic-in-out"
              }
             }
            ],
            "label": "Play",
            "method": "animate"
           },
           {
            "args": [
             [
              null
             ],
             {
              "frame": {
               "duration": 0,
               "redraw": false
              },
              "mode": "immediate",
              "transition": {
               "duration": 0
              }
             }
            ],
            "label": "Pause",
            "method": "animate"
           }
          ],
          "type": "buttons"
         }
        ],
        "xaxis": {
         "title": {
          "text": "X"
         }
        },
        "yaxis": {
         "title": {
          "text": "Y"
         }
        }
       }
      }
     },
     "metadata": {},
     "output_type": "display_data"
    },
    {
     "data": {
      "application/vnd.plotly.v1+json": {
       "config": {
        "plotlyServerURL": "https://plot.ly"
       },
       "data": [
        {
         "fill": "toself",
         "fillcolor": "rgba(34, 200, 255, 0.2)",
         "mode": "lines+markers",
         "name": "Polygon",
         "type": "scatter",
         "x": [
          3.3453252939507365,
          4.56964466907084,
          2.990969273261726,
          -1.648869906552136,
          7.07633207179606,
          7.034027734771371,
          8.507412764243782,
          13.109639695845544,
          12.64738021697849,
          6.054546925249171,
          3.5821968968957663,
          14.26908371038735,
          9.838039012625813,
          0.8827832043170929,
          4.185707269236445,
          10.700615999288857,
          6.757501590996981,
          3.6048890640959144,
          2.9554162742570043,
          -2.130536885932088,
          3.3453252939507365
         ],
         "y": [
          5.152417876757681,
          4.434112290851772,
          4.358941366896033,
          5.944620854221284,
          1.166239351965487,
          1.6574246194213629,
          3.655031168833375,
          5.455331605859101,
          7.803006804548204,
          7.866376008838415,
          9.926278525032103,
          9.825916112400591,
          10.504358172416687,
          10.70221396535635,
          7.648181322962046,
          6.424419324845076,
          3.4017199594527483,
          6.543008344247937,
          6.858058384619653,
          8.785307914018631,
          5.152417876757681
         ]
        },
        {
         "line": {
          "color": "blue"
         },
         "mode": "lines",
         "name": "Triangles",
         "type": "scatter",
         "x": [
          -2.130536885932088,
          3.3453252939507365,
          4.56964466907084,
          -2.130536885932088,
          null,
          2.990969273261726,
          -1.648869906552136,
          7.07633207179606,
          2.990969273261726,
          null,
          4.56964466907084,
          2.990969273261726,
          7.07633207179606,
          4.56964466907084,
          null,
          4.56964466907084,
          7.07633207179606,
          7.034027734771371,
          4.56964466907084,
          null,
          8.507412764243782,
          13.109639695845544,
          12.64738021697849,
          8.507412764243782,
          null,
          3.5821968968957663,
          14.26908371038735,
          9.838039012625813,
          3.5821968968957663,
          null,
          3.5821968968957663,
          9.838039012625813,
          0.8827832043170929,
          3.5821968968957663,
          null,
          6.054546925249171,
          3.5821968968957663,
          0.8827832043170929,
          6.054546925249171,
          null,
          6.054546925249171,
          0.8827832043170929,
          4.185707269236445,
          6.054546925249171,
          null,
          12.64738021697849,
          6.054546925249171,
          4.185707269236445,
          12.64738021697849,
          null,
          12.64738021697849,
          4.185707269236445,
          10.700615999288857,
          12.64738021697849,
          null,
          8.507412764243782,
          12.64738021697849,
          10.700615999288857,
          8.507412764243782,
          null,
          8.507412764243782,
          10.700615999288857,
          6.757501590996981,
          8.507412764243782,
          null,
          7.034027734771371,
          8.507412764243782,
          6.757501590996981,
          7.034027734771371,
          null,
          4.56964466907084,
          7.034027734771371,
          6.757501590996981,
          4.56964466907084,
          null,
          -2.130536885932088,
          4.56964466907084,
          6.757501590996981,
          -2.130536885932088,
          null,
          -2.130536885932088,
          6.757501590996981,
          3.6048890640959144,
          -2.130536885932088,
          null,
          3.6048890640959144,
          2.9554162742570043,
          -2.130536885932088,
          3.6048890640959144,
          null
         ],
         "y": [
          8.785307914018631,
          5.152417876757681,
          4.434112290851772,
          8.785307914018631,
          null,
          4.358941366896033,
          5.944620854221284,
          1.166239351965487,
          4.358941366896033,
          null,
          4.434112290851772,
          4.358941366896033,
          1.166239351965487,
          4.434112290851772,
          null,
          4.434112290851772,
          1.166239351965487,
          1.6574246194213629,
          4.434112290851772,
          null,
          3.655031168833375,
          5.455331605859101,
          7.803006804548204,
          3.655031168833375,
          null,
          9.926278525032103,
          9.825916112400591,
          10.504358172416687,
          9.926278525032103,
          null,
          9.926278525032103,
          10.504358172416687,
          10.70221396535635,
          9.926278525032103,
          null,
          7.866376008838415,
          9.926278525032103,
          10.70221396535635,
          7.866376008838415,
          null,
          7.866376008838415,
          10.70221396535635,
          7.648181322962046,
          7.866376008838415,
          null,
          7.803006804548204,
          7.866376008838415,
          7.648181322962046,
          7.803006804548204,
          null,
          7.803006804548204,
          7.648181322962046,
          6.424419324845076,
          7.803006804548204,
          null,
          3.655031168833375,
          7.803006804548204,
          6.424419324845076,
          3.655031168833375,
          null,
          3.655031168833375,
          6.424419324845076,
          3.4017199594527483,
          3.655031168833375,
          null,
          1.6574246194213629,
          3.655031168833375,
          3.4017199594527483,
          1.6574246194213629,
          null,
          4.434112290851772,
          1.6574246194213629,
          3.4017199594527483,
          4.434112290851772,
          null,
          8.785307914018631,
          4.434112290851772,
          3.4017199594527483,
          8.785307914018631,
          null,
          8.785307914018631,
          3.4017199594527483,
          6.543008344247937,
          8.785307914018631,
          null,
          6.543008344247937,
          6.858058384619653,
          8.785307914018631,
          6.543008344247937,
          null
         ]
        },
        {
         "marker": {
          "color": "green",
          "size": 10
         },
         "mode": "markers",
         "showlegend": false,
         "type": "scatter",
         "x": [
          3.3453252939507365
         ],
         "y": [
          5.152417876757681
         ]
        },
        {
         "marker": {
          "color": "red",
          "size": 10
         },
         "mode": "markers",
         "showlegend": false,
         "type": "scatter",
         "x": [
          4.56964466907084
         ],
         "y": [
          4.434112290851772
         ]
        },
        {
         "marker": {
          "color": "blue",
          "size": 10
         },
         "mode": "markers",
         "showlegend": false,
         "type": "scatter",
         "x": [
          2.990969273261726
         ],
         "y": [
          4.358941366896033
         ]
        },
        {
         "marker": {
          "color": "green",
          "size": 10
         },
         "mode": "markers",
         "showlegend": false,
         "type": "scatter",
         "x": [
          -1.648869906552136
         ],
         "y": [
          5.944620854221284
         ]
        },
        {
         "marker": {
          "color": "red",
          "size": 10
         },
         "mode": "markers",
         "showlegend": false,
         "type": "scatter",
         "x": [
          7.07633207179606
         ],
         "y": [
          1.166239351965487
         ]
        },
        {
         "marker": {
          "color": "blue",
          "size": 10
         },
         "mode": "markers",
         "showlegend": false,
         "type": "scatter",
         "x": [
          7.034027734771371
         ],
         "y": [
          1.6574246194213629
         ]
        },
        {
         "marker": {
          "color": "blue",
          "size": 10
         },
         "mode": "markers",
         "showlegend": false,
         "type": "scatter",
         "x": [
          8.507412764243782
         ],
         "y": [
          3.655031168833375
         ]
        },
        {
         "marker": {
          "color": "green",
          "size": 10
         },
         "mode": "markers",
         "showlegend": false,
         "type": "scatter",
         "x": [
          13.109639695845544
         ],
         "y": [
          5.455331605859101
         ]
        },
        {
         "marker": {
          "color": "red",
          "size": 10
         },
         "mode": "markers",
         "showlegend": false,
         "type": "scatter",
         "x": [
          12.64738021697849
         ],
         "y": [
          7.803006804548204
         ]
        },
        {
         "marker": {
          "color": "red",
          "size": 10
         },
         "mode": "markers",
         "showlegend": false,
         "type": "scatter",
         "x": [
          6.054546925249171
         ],
         "y": [
          7.866376008838415
         ]
        },
        {
         "marker": {
          "color": "blue",
          "size": 10
         },
         "mode": "markers",
         "showlegend": false,
         "type": "scatter",
         "x": [
          3.5821968968957663
         ],
         "y": [
          9.926278525032103
         ]
        },
        {
         "marker": {
          "color": "green",
          "size": 10
         },
         "mode": "markers",
         "showlegend": false,
         "type": "scatter",
         "x": [
          14.26908371038735
         ],
         "y": [
          9.825916112400591
         ]
        },
        {
         "marker": {
          "color": "red",
          "size": 10
         },
         "mode": "markers",
         "showlegend": false,
         "type": "scatter",
         "x": [
          9.838039012625813
         ],
         "y": [
          10.504358172416687
         ]
        },
        {
         "marker": {
          "color": "green",
          "size": 10
         },
         "mode": "markers",
         "showlegend": false,
         "type": "scatter",
         "x": [
          0.8827832043170929
         ],
         "y": [
          10.70221396535635
         ]
        },
        {
         "marker": {
          "color": "blue",
          "size": 10
         },
         "mode": "markers",
         "showlegend": false,
         "type": "scatter",
         "x": [
          4.185707269236445
         ],
         "y": [
          7.648181322962046
         ]
        },
        {
         "marker": {
          "color": "green",
          "size": 10
         },
         "mode": "markers",
         "showlegend": false,
         "type": "scatter",
         "x": [
          10.700615999288857
         ],
         "y": [
          6.424419324845076
         ]
        },
        {
         "marker": {
          "color": "red",
          "size": 10
         },
         "mode": "markers",
         "showlegend": false,
         "type": "scatter",
         "x": [
          6.757501590996981
         ],
         "y": [
          3.4017199594527483
         ]
        },
        {
         "marker": {
          "color": "green",
          "size": 10
         },
         "mode": "markers",
         "showlegend": false,
         "type": "scatter",
         "x": [
          3.6048890640959144
         ],
         "y": [
          6.543008344247937
         ]
        },
        {
         "marker": {
          "color": "red",
          "size": 10
         },
         "mode": "markers",
         "showlegend": false,
         "type": "scatter",
         "x": [
          2.9554162742570043
         ],
         "y": [
          6.858058384619653
         ]
        },
        {
         "marker": {
          "color": "blue",
          "size": 10
         },
         "mode": "markers",
         "showlegend": false,
         "type": "scatter",
         "x": [
          -2.130536885932088
         ],
         "y": [
          8.785307914018631
         ]
        }
       ],
       "layout": {
        "template": {
         "data": {
          "bar": [
           {
            "error_x": {
             "color": "#2a3f5f"
            },
            "error_y": {
             "color": "#2a3f5f"
            },
            "marker": {
             "line": {
              "color": "#E5ECF6",
              "width": 0.5
             },
             "pattern": {
              "fillmode": "overlay",
              "size": 10,
              "solidity": 0.2
             }
            },
            "type": "bar"
           }
          ],
          "barpolar": [
           {
            "marker": {
             "line": {
              "color": "#E5ECF6",
              "width": 0.5
             },
             "pattern": {
              "fillmode": "overlay",
              "size": 10,
              "solidity": 0.2
             }
            },
            "type": "barpolar"
           }
          ],
          "carpet": [
           {
            "aaxis": {
             "endlinecolor": "#2a3f5f",
             "gridcolor": "white",
             "linecolor": "white",
             "minorgridcolor": "white",
             "startlinecolor": "#2a3f5f"
            },
            "baxis": {
             "endlinecolor": "#2a3f5f",
             "gridcolor": "white",
             "linecolor": "white",
             "minorgridcolor": "white",
             "startlinecolor": "#2a3f5f"
            },
            "type": "carpet"
           }
          ],
          "choropleth": [
           {
            "colorbar": {
             "outlinewidth": 0,
             "ticks": ""
            },
            "type": "choropleth"
           }
          ],
          "contour": [
           {
            "colorbar": {
             "outlinewidth": 0,
             "ticks": ""
            },
            "colorscale": [
             [
              0,
              "#0d0887"
             ],
             [
              0.1111111111111111,
              "#46039f"
             ],
             [
              0.2222222222222222,
              "#7201a8"
             ],
             [
              0.3333333333333333,
              "#9c179e"
             ],
             [
              0.4444444444444444,
              "#bd3786"
             ],
             [
              0.5555555555555556,
              "#d8576b"
             ],
             [
              0.6666666666666666,
              "#ed7953"
             ],
             [
              0.7777777777777778,
              "#fb9f3a"
             ],
             [
              0.8888888888888888,
              "#fdca26"
             ],
             [
              1,
              "#f0f921"
             ]
            ],
            "type": "contour"
           }
          ],
          "contourcarpet": [
           {
            "colorbar": {
             "outlinewidth": 0,
             "ticks": ""
            },
            "type": "contourcarpet"
           }
          ],
          "heatmap": [
           {
            "colorbar": {
             "outlinewidth": 0,
             "ticks": ""
            },
            "colorscale": [
             [
              0,
              "#0d0887"
             ],
             [
              0.1111111111111111,
              "#46039f"
             ],
             [
              0.2222222222222222,
              "#7201a8"
             ],
             [
              0.3333333333333333,
              "#9c179e"
             ],
             [
              0.4444444444444444,
              "#bd3786"
             ],
             [
              0.5555555555555556,
              "#d8576b"
             ],
             [
              0.6666666666666666,
              "#ed7953"
             ],
             [
              0.7777777777777778,
              "#fb9f3a"
             ],
             [
              0.8888888888888888,
              "#fdca26"
             ],
             [
              1,
              "#f0f921"
             ]
            ],
            "type": "heatmap"
           }
          ],
          "heatmapgl": [
           {
            "colorbar": {
             "outlinewidth": 0,
             "ticks": ""
            },
            "colorscale": [
             [
              0,
              "#0d0887"
             ],
             [
              0.1111111111111111,
              "#46039f"
             ],
             [
              0.2222222222222222,
              "#7201a8"
             ],
             [
              0.3333333333333333,
              "#9c179e"
             ],
             [
              0.4444444444444444,
              "#bd3786"
             ],
             [
              0.5555555555555556,
              "#d8576b"
             ],
             [
              0.6666666666666666,
              "#ed7953"
             ],
             [
              0.7777777777777778,
              "#fb9f3a"
             ],
             [
              0.8888888888888888,
              "#fdca26"
             ],
             [
              1,
              "#f0f921"
             ]
            ],
            "type": "heatmapgl"
           }
          ],
          "histogram": [
           {
            "marker": {
             "pattern": {
              "fillmode": "overlay",
              "size": 10,
              "solidity": 0.2
             }
            },
            "type": "histogram"
           }
          ],
          "histogram2d": [
           {
            "colorbar": {
             "outlinewidth": 0,
             "ticks": ""
            },
            "colorscale": [
             [
              0,
              "#0d0887"
             ],
             [
              0.1111111111111111,
              "#46039f"
             ],
             [
              0.2222222222222222,
              "#7201a8"
             ],
             [
              0.3333333333333333,
              "#9c179e"
             ],
             [
              0.4444444444444444,
              "#bd3786"
             ],
             [
              0.5555555555555556,
              "#d8576b"
             ],
             [
              0.6666666666666666,
              "#ed7953"
             ],
             [
              0.7777777777777778,
              "#fb9f3a"
             ],
             [
              0.8888888888888888,
              "#fdca26"
             ],
             [
              1,
              "#f0f921"
             ]
            ],
            "type": "histogram2d"
           }
          ],
          "histogram2dcontour": [
           {
            "colorbar": {
             "outlinewidth": 0,
             "ticks": ""
            },
            "colorscale": [
             [
              0,
              "#0d0887"
             ],
             [
              0.1111111111111111,
              "#46039f"
             ],
             [
              0.2222222222222222,
              "#7201a8"
             ],
             [
              0.3333333333333333,
              "#9c179e"
             ],
             [
              0.4444444444444444,
              "#bd3786"
             ],
             [
              0.5555555555555556,
              "#d8576b"
             ],
             [
              0.6666666666666666,
              "#ed7953"
             ],
             [
              0.7777777777777778,
              "#fb9f3a"
             ],
             [
              0.8888888888888888,
              "#fdca26"
             ],
             [
              1,
              "#f0f921"
             ]
            ],
            "type": "histogram2dcontour"
           }
          ],
          "mesh3d": [
           {
            "colorbar": {
             "outlinewidth": 0,
             "ticks": ""
            },
            "type": "mesh3d"
           }
          ],
          "parcoords": [
           {
            "line": {
             "colorbar": {
              "outlinewidth": 0,
              "ticks": ""
             }
            },
            "type": "parcoords"
           }
          ],
          "pie": [
           {
            "automargin": true,
            "type": "pie"
           }
          ],
          "scatter": [
           {
            "fillpattern": {
             "fillmode": "overlay",
             "size": 10,
             "solidity": 0.2
            },
            "type": "scatter"
           }
          ],
          "scatter3d": [
           {
            "line": {
             "colorbar": {
              "outlinewidth": 0,
              "ticks": ""
             }
            },
            "marker": {
             "colorbar": {
              "outlinewidth": 0,
              "ticks": ""
             }
            },
            "type": "scatter3d"
           }
          ],
          "scattercarpet": [
           {
            "marker": {
             "colorbar": {
              "outlinewidth": 0,
              "ticks": ""
             }
            },
            "type": "scattercarpet"
           }
          ],
          "scattergeo": [
           {
            "marker": {
             "colorbar": {
              "outlinewidth": 0,
              "ticks": ""
             }
            },
            "type": "scattergeo"
           }
          ],
          "scattergl": [
           {
            "marker": {
             "colorbar": {
              "outlinewidth": 0,
              "ticks": ""
             }
            },
            "type": "scattergl"
           }
          ],
          "scattermapbox": [
           {
            "marker": {
             "colorbar": {
              "outlinewidth": 0,
              "ticks": ""
             }
            },
            "type": "scattermapbox"
           }
          ],
          "scatterpolar": [
           {
            "marker": {
             "colorbar": {
              "outlinewidth": 0,
              "ticks": ""
             }
            },
            "type": "scatterpolar"
           }
          ],
          "scatterpolargl": [
           {
            "marker": {
             "colorbar": {
              "outlinewidth": 0,
              "ticks": ""
             }
            },
            "type": "scatterpolargl"
           }
          ],
          "scatterternary": [
           {
            "marker": {
             "colorbar": {
              "outlinewidth": 0,
              "ticks": ""
             }
            },
            "type": "scatterternary"
           }
          ],
          "surface": [
           {
            "colorbar": {
             "outlinewidth": 0,
             "ticks": ""
            },
            "colorscale": [
             [
              0,
              "#0d0887"
             ],
             [
              0.1111111111111111,
              "#46039f"
             ],
             [
              0.2222222222222222,
              "#7201a8"
             ],
             [
              0.3333333333333333,
              "#9c179e"
             ],
             [
              0.4444444444444444,
              "#bd3786"
             ],
             [
              0.5555555555555556,
              "#d8576b"
             ],
             [
              0.6666666666666666,
              "#ed7953"
             ],
             [
              0.7777777777777778,
              "#fb9f3a"
             ],
             [
              0.8888888888888888,
              "#fdca26"
             ],
             [
              1,
              "#f0f921"
             ]
            ],
            "type": "surface"
           }
          ],
          "table": [
           {
            "cells": {
             "fill": {
              "color": "#EBF0F8"
             },
             "line": {
              "color": "white"
             }
            },
            "header": {
             "fill": {
              "color": "#C8D4E3"
             },
             "line": {
              "color": "white"
             }
            },
            "type": "table"
           }
          ]
         },
         "layout": {
          "annotationdefaults": {
           "arrowcolor": "#2a3f5f",
           "arrowhead": 0,
           "arrowwidth": 1
          },
          "autotypenumbers": "strict",
          "coloraxis": {
           "colorbar": {
            "outlinewidth": 0,
            "ticks": ""
           }
          },
          "colorscale": {
           "diverging": [
            [
             0,
             "#8e0152"
            ],
            [
             0.1,
             "#c51b7d"
            ],
            [
             0.2,
             "#de77ae"
            ],
            [
             0.3,
             "#f1b6da"
            ],
            [
             0.4,
             "#fde0ef"
            ],
            [
             0.5,
             "#f7f7f7"
            ],
            [
             0.6,
             "#e6f5d0"
            ],
            [
             0.7,
             "#b8e186"
            ],
            [
             0.8,
             "#7fbc41"
            ],
            [
             0.9,
             "#4d9221"
            ],
            [
             1,
             "#276419"
            ]
           ],
           "sequential": [
            [
             0,
             "#0d0887"
            ],
            [
             0.1111111111111111,
             "#46039f"
            ],
            [
             0.2222222222222222,
             "#7201a8"
            ],
            [
             0.3333333333333333,
             "#9c179e"
            ],
            [
             0.4444444444444444,
             "#bd3786"
            ],
            [
             0.5555555555555556,
             "#d8576b"
            ],
            [
             0.6666666666666666,
             "#ed7953"
            ],
            [
             0.7777777777777778,
             "#fb9f3a"
            ],
            [
             0.8888888888888888,
             "#fdca26"
            ],
            [
             1,
             "#f0f921"
            ]
           ],
           "sequentialminus": [
            [
             0,
             "#0d0887"
            ],
            [
             0.1111111111111111,
             "#46039f"
            ],
            [
             0.2222222222222222,
             "#7201a8"
            ],
            [
             0.3333333333333333,
             "#9c179e"
            ],
            [
             0.4444444444444444,
             "#bd3786"
            ],
            [
             0.5555555555555556,
             "#d8576b"
            ],
            [
             0.6666666666666666,
             "#ed7953"
            ],
            [
             0.7777777777777778,
             "#fb9f3a"
            ],
            [
             0.8888888888888888,
             "#fdca26"
            ],
            [
             1,
             "#f0f921"
            ]
           ]
          },
          "colorway": [
           "#636efa",
           "#EF553B",
           "#00cc96",
           "#ab63fa",
           "#FFA15A",
           "#19d3f3",
           "#FF6692",
           "#B6E880",
           "#FF97FF",
           "#FECB52"
          ],
          "font": {
           "color": "#2a3f5f"
          },
          "geo": {
           "bgcolor": "white",
           "lakecolor": "white",
           "landcolor": "#E5ECF6",
           "showlakes": true,
           "showland": true,
           "subunitcolor": "white"
          },
          "hoverlabel": {
           "align": "left"
          },
          "hovermode": "closest",
          "mapbox": {
           "style": "light"
          },
          "paper_bgcolor": "white",
          "plot_bgcolor": "#E5ECF6",
          "polar": {
           "angularaxis": {
            "gridcolor": "white",
            "linecolor": "white",
            "ticks": ""
           },
           "bgcolor": "#E5ECF6",
           "radialaxis": {
            "gridcolor": "white",
            "linecolor": "white",
            "ticks": ""
           }
          },
          "scene": {
           "xaxis": {
            "backgroundcolor": "#E5ECF6",
            "gridcolor": "white",
            "gridwidth": 2,
            "linecolor": "white",
            "showbackground": true,
            "ticks": "",
            "zerolinecolor": "white"
           },
           "yaxis": {
            "backgroundcolor": "#E5ECF6",
            "gridcolor": "white",
            "gridwidth": 2,
            "linecolor": "white",
            "showbackground": true,
            "ticks": "",
            "zerolinecolor": "white"
           },
           "zaxis": {
            "backgroundcolor": "#E5ECF6",
            "gridcolor": "white",
            "gridwidth": 2,
            "linecolor": "white",
            "showbackground": true,
            "ticks": "",
            "zerolinecolor": "white"
           }
          },
          "shapedefaults": {
           "line": {
            "color": "#2a3f5f"
           }
          },
          "ternary": {
           "aaxis": {
            "gridcolor": "white",
            "linecolor": "white",
            "ticks": ""
           },
           "baxis": {
            "gridcolor": "white",
            "linecolor": "white",
            "ticks": ""
           },
           "bgcolor": "#E5ECF6",
           "caxis": {
            "gridcolor": "white",
            "linecolor": "white",
            "ticks": ""
           }
          },
          "title": {
           "x": 0.05
          },
          "xaxis": {
           "automargin": true,
           "gridcolor": "white",
           "linecolor": "white",
           "ticks": "",
           "title": {
            "standoff": 15
           },
           "zerolinecolor": "white",
           "zerolinewidth": 2
          },
          "yaxis": {
           "automargin": true,
           "gridcolor": "white",
           "linecolor": "white",
           "ticks": "",
           "title": {
            "standoff": 15
           },
           "zerolinecolor": "white",
           "zerolinewidth": 2
          }
         }
        }
       }
      }
     },
     "metadata": {},
     "output_type": "display_data"
    },
    {
     "name": "stdout",
     "output_type": "stream",
     "text": [
      "Número de cameras: 6\n"
     ]
    }
   ],
   "source": [
    "input = 'agp2009a-simplerand/randsimple-20-1.pol'\n",
    "poly = Polygon(input)\n",
    "result = triangulate(poly)\n",
    "fig = poly.plot(result)\n",
    "fig.show()\n",
    "\n",
    "colors = three_color(result)\n",
    "print_colors(poly,result)\n",
    "print(f\"Número de cameras: {min(colors.values())}\")\n",
    "\n"
   ]
  },
  {
   "cell_type": "markdown",
   "metadata": {},
   "source": [
    "# Análise de tempo de execução por número de vértices"
   ]
  },
  {
   "cell_type": "code",
   "execution_count": 9,
   "metadata": {},
   "outputs": [
    {
     "name": "stdout",
     "output_type": "stream",
     "text": [
      "57\n"
     ]
    },
    {
     "data": {
      "image/png": "[encoded data removed]",
      "text/plain": [
       "<Figure size 640x480 with 1 Axes>"
      ]
     },
     "metadata": {},
     "output_type": "display_data"
    }
   ],
   "source": [
    "import os\n",
    "import time\n",
    "import matplotlib.pyplot as plt\n",
    "\n",
    "def files_name(folder):\n",
    "    file_names = []\n",
    "    for file_name in os.listdir(folder):\n",
    "        full_path = os.path.join(folder, file_name)\n",
    "        if os.path.isfile(full_path):\n",
    "            file_names.append(file_name)\n",
    "    return file_names\n",
    "\n",
    "\n",
    "\n",
    "folder = 'agp2009a-simplerand'\n",
    "file_names = files_name(folder)\n",
    "\n",
    "t = []\n",
    "num_v = []\n",
    "\n",
    "\n",
    "for file in file_names:\n",
    "    input = f\"{folder}/{file}\"\n",
    "    poly = Polygon(input)\n",
    "    t_i = time.time()\n",
    "    result = triangulate(poly)\n",
    "    t_f = time.time()\n",
    "    t.append(t_f - t_i)\n",
    "    num_v.append(len(poly.vertex_list))\n",
    "print(len(num_v))\n",
    "plt.scatter(num_v, t)\n",
    "\n",
    "plt.title('Relação entre Tempo e Número de Vértices')\n",
    "plt.xlabel('Número de Vértices')\n",
    "plt.ylabel('Tempo (s)')\n",
    "\n",
    "plt.show()\n",
    "\n",
    "\n"
   ]
  },
  {
   "cell_type": "markdown",
   "metadata": {},
   "source": [
    "Referências:\n",
    "\n",
    "https://www.geeksforgeeks.org/timing-functions-with-decorators-python/\n",
    "\n",
    "https://www.geometrictools.com/Documentation/TriangulationByEarClipping.pdf\n",
    "\n",
    "https://github.com/yaugenst/triangulation/tree/master\n",
    "\n",
    "https://www.w3schools.com/css/css_colors_rgb.asp"
   ]
  }
 ],
 "metadata": {
  "kernelspec": {
   "display_name": "Python 3",
   "language": "python",
   "name": "python3"
  },
  "language_info": {
   "codemirror_mode": {
    "name": "ipython",
    "version": 3
   },
   "file_extension": ".py",
   "mimetype": "text/x-python",
   "name": "python",
   "nbconvert_exporter": "python",
   "pygments_lexer": "ipython3",
   "version": "3.11.0"
  }
 },
 "nbformat": 4,
 "nbformat_minor": 2
}
